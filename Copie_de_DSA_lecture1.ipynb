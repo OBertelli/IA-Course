{
  "nbformat": 4,
  "nbformat_minor": 0,
  "metadata": {
    "colab": {
      "provenance": [],
      "toc_visible": true,
      "include_colab_link": true
    },
    "kernelspec": {
      "name": "python3",
      "display_name": "Python 3"
    },
    "language_info": {
      "name": "python"
    }
  },
  "cells": [
    {
      "cell_type": "markdown",
      "metadata": {
        "id": "view-in-github",
        "colab_type": "text"
      },
      "source": [
        "<a href=\"https://colab.research.google.com/github/OBertelli/IA-Course/blob/main/Copie_de_DSA_lecture1.ipynb\" target=\"_parent\"><img src=\"https://colab.research.google.com/assets/colab-badge.svg\" alt=\"Open In Colab\"/></a>"
      ]
    },
    {
      "cell_type": "markdown",
      "source": [
        "# Quick Introduction to Python\n",
        "\n",
        "Python is quick and easy to learn the basics of.\n",
        "Here is your first python program!\n",
        "\n"
      ],
      "metadata": {
        "id": "GKN6tD67u_6x"
      }
    },
    {
      "cell_type": "code",
      "source": [
        "print(\"Hello world!\")"
      ],
      "metadata": {
        "id": "Ov24PezIxnnH"
      },
      "execution_count": null,
      "outputs": []
    },
    {
      "cell_type": "markdown",
      "source": [
        "\n",
        "## Numbers\n",
        "\n",
        "Python can be used as a calculator to evaluate mathematical expressions."
      ],
      "metadata": {
        "id": "EOaI2Os8xkDC"
      }
    },
    {
      "cell_type": "code",
      "source": [
        "# Print the output of basic mathematical operations\n",
        "\n",
        "print(1+1)      # addition\n",
        "print(2*3)      # multiplication\n",
        "print((1+2)*3)  # compound operations using brackets\n",
        "print(5/2)      # division\n",
        "print(5//2)     # integer division\n",
        "print(5%2)      # reminder (modulo)\n",
        "print(2**5)     # exponentiation (power)\n"
      ],
      "metadata": {
        "id": "tcQYYDUqwX3g"
      },
      "execution_count": null,
      "outputs": []
    },
    {
      "cell_type": "markdown",
      "source": [
        "## Variables\n",
        "\n",
        "In python, you can create new variables by simply assigning a value to it. No need to declare it beforehand!"
      ],
      "metadata": {
        "id": "fUxNIiVTyH34"
      }
    },
    {
      "cell_type": "code",
      "source": [
        "width = 10\n",
        "length = 2\n",
        "\n",
        "print(width)\n",
        "print(length)\n",
        "\n",
        "print(\"Area is\", width*length)"
      ],
      "metadata": {
        "id": "FHRxNnMeyUcO",
        "colab": {
          "base_uri": "https://localhost:8080/"
        },
        "outputId": "88926e7a-aefc-4f61-d663-739b1f0ab63f"
      },
      "execution_count": null,
      "outputs": [
        {
          "output_type": "stream",
          "name": "stdout",
          "text": [
            "10\n",
            "2\n",
            "Area is 20\n"
          ]
        }
      ]
    },
    {
      "cell_type": "markdown",
      "source": [
        "## Text\n",
        "\n",
        "Python can be used to manipulate text."
      ],
      "metadata": {
        "id": "kD9QvfIYzYoD"
      }
    },
    {
      "cell_type": "code",
      "source": [
        "message = \"Hello world!\"  # You can assign any text string to a variable by including it in quotes \" \".\n",
        "\n",
        "print(message)\n",
        "print(message[0])   # The first character of a string is indexed by 0.\n",
        "print(message[1])\n",
        "print(message[2])\n",
        "print(message[3])\n",
        "print(message[4])\n",
        "print(message[5])\n",
        "print(message[6])\n",
        "print(message[7])\n",
        "print(message[8])\n",
        "print(message[9])\n",
        "print(message[10])\n",
        "print(message[11])\n",
        "\n",
        "print(\"\\n\")         # \\n prints a line break.\n",
        "\n",
        "print(message[-1])  # The last character of a string is indexed by -1.\n",
        "print(message[-2])\n",
        "print(message[-3])\n",
        "print(message[-4])\n",
        "\n",
        "print(message[0:3])\n",
        "print(message[:3])\n",
        "print(message[3:6])\n",
        "print(message[3:])\n",
        "\n",
        "print(\"Let us \" + \"concatenate \" + \"two strings\" + \".\")\n",
        "print(message[:3] + message[3:])\n"
      ],
      "metadata": {
        "id": "td1VToCxzxm2",
        "colab": {
          "base_uri": "https://localhost:8080/"
        },
        "outputId": "cb54cd6d-32c0-4f80-f301-34bca73c3f96"
      },
      "execution_count": null,
      "outputs": [
        {
          "output_type": "stream",
          "name": "stdout",
          "text": [
            "Hello world!\n",
            "H\n",
            "e\n",
            "l\n",
            "l\n",
            "o\n",
            " \n",
            "w\n",
            "o\n",
            "r\n",
            "l\n",
            "d\n",
            "!\n",
            "\n",
            "\n",
            "!\n",
            "d\n",
            "l\n",
            "r\n",
            "Hel\n",
            "Hel\n",
            "lo \n",
            "lo world!\n",
            "Let us concatenate two strings.\n",
            "Hello world!\n"
          ]
        }
      ]
    },
    {
      "cell_type": "code",
      "source": [
        "print(message*3)\n",
        "print((message + ' ')*3)\n"
      ],
      "metadata": {
        "id": "gGesBp9lz5hD",
        "colab": {
          "base_uri": "https://localhost:8080/"
        },
        "outputId": "fd0644ac-1d82-4337-e40f-d94282aabe20"
      },
      "execution_count": null,
      "outputs": [
        {
          "output_type": "stream",
          "name": "stdout",
          "text": [
            "Hello world!Hello world!Hello world!\n",
            "Hello world! Hello world! Hello world! \n"
          ]
        }
      ]
    },
    {
      "cell_type": "code",
      "source": [
        "msg = 'this is a sentence'\n",
        "print(msg)\n",
        "print(msg[:15])\n",
        "print(msg[-2])\n",
        "print(msg[0:3])"
      ],
      "metadata": {
        "id": "ke4pDKcYiFai",
        "outputId": "a22de609-efb6-4f1d-81eb-7f01735502bd",
        "colab": {
          "base_uri": "https://localhost:8080/"
        }
      },
      "execution_count": null,
      "outputs": [
        {
          "output_type": "stream",
          "name": "stdout",
          "text": [
            "this is a sentence\n",
            "this is a sente\n",
            "c\n",
            "thi\n"
          ]
        }
      ]
    },
    {
      "cell_type": "code",
      "source": [
        "print(msg[3])"
      ],
      "metadata": {
        "id": "jGlQUrHpiZDv",
        "outputId": "965fc304-1715-4629-b3b1-4ea14fca59b3",
        "colab": {
          "base_uri": "https://localhost:8080/"
        }
      },
      "execution_count": null,
      "outputs": [
        {
          "output_type": "stream",
          "name": "stdout",
          "text": [
            "s\n"
          ]
        }
      ]
    },
    {
      "cell_type": "markdown",
      "source": [
        "Here are some common error messages in python."
      ],
      "metadata": {
        "id": "qpymzwGr4Wh1"
      }
    },
    {
      "cell_type": "code",
      "source": [
        "print(message + 2)"
      ],
      "metadata": {
        "id": "lwoVZPzN4agr"
      },
      "execution_count": null,
      "outputs": []
    },
    {
      "cell_type": "code",
      "source": [
        "print(message + '2')"
      ],
      "metadata": {
        "id": "iAGpsdgpjshH",
        "outputId": "11e03de7-9b29-48ed-a08c-a79ebdf141ce",
        "colab": {
          "base_uri": "https://localhost:8080/"
        }
      },
      "execution_count": null,
      "outputs": [
        {
          "output_type": "stream",
          "name": "stdout",
          "text": [
            "Hello world!2\n"
          ]
        }
      ]
    },
    {
      "cell_type": "code",
      "source": [
        "len(message)\n",
        "another_message = 'this is a really long message'\n",
        "len(another_message)"
      ],
      "metadata": {
        "id": "3ZQ2mkXejS2X",
        "outputId": "ecb1d4ff-59a0-4653-dc6a-74477c5b3cc6",
        "colab": {
          "base_uri": "https://localhost:8080/"
        }
      },
      "execution_count": null,
      "outputs": [
        {
          "output_type": "execute_result",
          "data": {
            "text/plain": [
              "29"
            ]
          },
          "metadata": {},
          "execution_count": 16
        }
      ]
    },
    {
      "cell_type": "code",
      "source": [
        "print(message[34])"
      ],
      "metadata": {
        "id": "AcGn4eNt4drF"
      },
      "execution_count": null,
      "outputs": []
    },
    {
      "cell_type": "markdown",
      "source": [
        "## Input\n",
        "\n",
        "Python has a simple function to get user input."
      ],
      "metadata": {
        "id": "LTcy7SIpkgv0"
      }
    },
    {
      "cell_type": "code",
      "source": [
        "name = input('Please enter your name: ')\n",
        "print('Hello ' + name + '!')"
      ],
      "metadata": {
        "id": "RB-KFCQ7k_D3",
        "colab": {
          "base_uri": "https://localhost:8080/"
        },
        "outputId": "9499d876-f26f-48c8-ecdd-cf83e5e9077a"
      },
      "execution_count": null,
      "outputs": [
        {
          "output_type": "stream",
          "name": "stdout",
          "text": [
            "Please enter your name: Olivia\n",
            "Hello Olivia!\n"
          ]
        }
      ]
    },
    {
      "cell_type": "code",
      "source": [
        "name_bis = input('How is it?')\n",
        "print('Hey' + name_bis)"
      ],
      "metadata": {
        "id": "HFHw_pkfkG9O",
        "outputId": "a9799209-53f6-45e4-8902-217972d169ba",
        "colab": {
          "base_uri": "https://localhost:8080/"
        }
      },
      "execution_count": null,
      "outputs": [
        {
          "output_type": "stream",
          "name": "stdout",
          "text": [
            "How is it?ok\n",
            "Heyok\n"
          ]
        }
      ]
    },
    {
      "cell_type": "markdown",
      "source": [
        "# Data types\n",
        "\n",
        "Python has several in-built data \"types\".\n"
      ],
      "metadata": {
        "id": "AVY2dQ7w5Dxl"
      }
    },
    {
      "cell_type": "code",
      "source": [
        "# String and int data types\n",
        "\n",
        "msg = 'Hi'\n",
        "num = 42\n",
        "\n",
        "print(type(msg))\n",
        "print(type(num))"
      ],
      "metadata": {
        "id": "kxZ4Wj6R5Qm9",
        "colab": {
          "base_uri": "https://localhost:8080/"
        },
        "outputId": "70cb5b42-e1a8-48e6-f6b2-c63f66cfa917"
      },
      "execution_count": null,
      "outputs": [
        {
          "output_type": "stream",
          "name": "stdout",
          "text": [
            "<class 'str'>\n",
            "<class 'int'>\n"
          ]
        }
      ]
    },
    {
      "cell_type": "code",
      "source": [
        "# Float data type (floating point number)\n",
        "\n",
        "x = 3.14\n",
        "\n",
        "print(type(x))"
      ],
      "metadata": {
        "id": "iLBkYigK5cXp"
      },
      "execution_count": null,
      "outputs": []
    },
    {
      "cell_type": "code",
      "source": [
        "# Bool data type (boolean) has only 2 possible values\n",
        "\n",
        "a = True\n",
        "b = False\n",
        "\n",
        "print(type(a))\n",
        "\n",
        "print(a and b)\n",
        "print(a or b)\n",
        "print((a or b) and a)"
      ],
      "metadata": {
        "id": "NEhBb93r541M",
        "colab": {
          "base_uri": "https://localhost:8080/"
        },
        "outputId": "b66db91c-08bf-4e4e-a2fb-368f20556357"
      },
      "execution_count": null,
      "outputs": [
        {
          "output_type": "stream",
          "name": "stdout",
          "text": [
            "<class 'bool'>\n",
            "False\n",
            "True\n",
            "True\n"
          ]
        }
      ]
    },
    {
      "cell_type": "code",
      "source": [
        "# type-casting - convert one type of variable to another\n",
        "\n",
        "num_string = input('Please enter your favourite number: ')\n",
        "print('Your favourite number is ' + num_string)\n",
        "print(type(num_string))\n",
        "num = int(num_string) # casting the string var into an int\n",
        "new_num = num + 10\n",
        "new_num_string = str(new_num)\n",
        "print('Your faourite number plus 10 is ' + new_num_string)\n",
        "print(new_num, num)"
      ],
      "metadata": {
        "id": "te3jXk3hlUW3",
        "colab": {
          "base_uri": "https://localhost:8080/"
        },
        "outputId": "aa736184-5e8a-4c51-c329-e7b778d2e268"
      },
      "execution_count": null,
      "outputs": [
        {
          "output_type": "stream",
          "name": "stdout",
          "text": [
            "Please enter your favourite number: 42\n",
            "Your favourite number is 42\n",
            "<class 'str'>\n",
            "Your faourite number plus 10 is 52\n",
            "52 42\n"
          ]
        }
      ]
    },
    {
      "cell_type": "markdown",
      "source": [
        "## Lists\n",
        "\n",
        "List is a compound data type in python."
      ],
      "metadata": {
        "id": "5nvFT6Vq6ljm"
      }
    },
    {
      "cell_type": "code",
      "source": [
        "groceries = ['bread', 'milk', 'eggs'] # syntax is to put objects separated by commas\n",
        "\n",
        "print(type(groceries))\n",
        "print(groceries[0]) # first item\n",
        "print(groceries[-1]) # last item\n",
        "print(groceries*3)"
      ],
      "metadata": {
        "id": "KFIGN5GY64ft",
        "colab": {
          "base_uri": "https://localhost:8080/"
        },
        "outputId": "a8c7e5f0-fd16-4346-a12e-e2d7f9202881"
      },
      "execution_count": null,
      "outputs": [
        {
          "output_type": "stream",
          "name": "stdout",
          "text": [
            "<class 'list'>\n",
            "bread\n",
            "eggs\n",
            "['bread', 'milk', 'eggs', 'bread', 'milk', 'eggs', 'bread', 'milk', 'eggs']\n"
          ]
        }
      ]
    },
    {
      "cell_type": "code",
      "source": [
        "courses = ['python 101', 'economics', 'philosophy']\n",
        "print(courses)\n",
        "print((groceries + courses)*2) # NB: a list can have duplicate items"
      ],
      "metadata": {
        "colab": {
          "base_uri": "https://localhost:8080/"
        },
        "id": "yevzFFUzoFXX",
        "outputId": "33ec0e5e-8884-4036-ee95-03f3b2d4d003"
      },
      "execution_count": null,
      "outputs": [
        {
          "output_type": "stream",
          "name": "stdout",
          "text": [
            "['python 101', 'economics', 'philosophy']\n",
            "['bread', 'milk', 'eggs', 'python 101', 'economics', 'philosophy', 'bread', 'milk', 'eggs', 'python 101', 'economics', 'philosophy']\n"
          ]
        }
      ]
    },
    {
      "cell_type": "code",
      "source": [
        "numbers = [1, 1, 1, 1]\n",
        "new_list = numbers + courses # create new list and gives a name\n",
        "print(new_list)  # only temporarly in memory\n",
        "print(numbers*6)"
      ],
      "metadata": {
        "colab": {
          "base_uri": "https://localhost:8080/"
        },
        "id": "JHZ5VBTIokJP",
        "outputId": "973997c2-a486-4f22-fd4c-4bc2d76fc46a"
      },
      "execution_count": null,
      "outputs": [
        {
          "output_type": "stream",
          "name": "stdout",
          "text": [
            "[1, 1, 1, 1, 1, 1, 1, 1, 1, 1, 1, 1, 1, 1, 1, 1, 1, 1, 1, 1, 1, 1, 1, 1]\n"
          ]
        }
      ]
    },
    {
      "cell_type": "code",
      "source": [
        "things = ['bread', 42, False, 9.99, [1, 2, 3]]   # List can store items of various types.\n",
        "\n",
        "print(type(things))\n",
        "print(type(things[0]))\n",
        "print(type(things[2]))\n",
        "print(type(things[-1]))\n",
        "print(type(things[2:]))"
      ],
      "metadata": {
        "id": "DM-Lb4AL8I3j",
        "colab": {
          "base_uri": "https://localhost:8080/"
        },
        "outputId": "cd9c5d33-f6e1-4fd5-834c-45c63cd1ba7d"
      },
      "execution_count": null,
      "outputs": [
        {
          "output_type": "stream",
          "name": "stdout",
          "text": [
            "<class 'list'>\n",
            "<class 'str'>\n",
            "<class 'bool'>\n",
            "<class 'list'>\n",
            "<class 'list'>\n"
          ]
        }
      ]
    },
    {
      "cell_type": "markdown",
      "source": [
        "The `list` data type has several built-in \"methods\" in python."
      ],
      "metadata": {
        "id": "u40NewE88lRv"
      }
    },
    {
      "cell_type": "code",
      "source": [
        "# methods are the operations that can be performed with lists\n",
        "\n",
        "things = ['bread', 42, False, 9.99]\n",
        "\n",
        "things.append('eggs')     # add a new item to the end of the list\n",
        "print(things)\n",
        "\n",
        "things.insert(2, True)    # insert a new item at a specific position (2) in the list True is the object to be inserted\n",
        "print(things)\n",
        "\n",
        "things.reverse()          # reverse the list\n",
        "print(things)"
      ],
      "metadata": {
        "id": "hy1fJeb78tgx",
        "colab": {
          "base_uri": "https://localhost:8080/"
        },
        "outputId": "240ff51b-7dfd-43f6-a3e5-7ec26222c313"
      },
      "execution_count": null,
      "outputs": [
        {
          "output_type": "stream",
          "name": "stdout",
          "text": [
            "['bread', 42, False, 9.99, 'eggs']\n",
            "['bread', 42, True, False, 9.99, 'eggs']\n",
            "['eggs', 9.99, False, True, 42, 'bread']\n"
          ]
        }
      ]
    },
    {
      "cell_type": "code",
      "source": [
        "things = ['bread', 42, False, 9.99]\n",
        "\n",
        "things.append('eggs')\n",
        "print(things)                 # list can have duplicate items\n",
        "print(things.count('eggs'))   # returns the count of a specific item in the list\n",
        "\n",
        "\n",
        "print(\"\\nRemoving things:\")\n",
        "things.remove('eggs')     # removes the first occurence of an item in the list\n",
        "print(things)\n",
        "\n",
        "# Popping is removing and showing you the removed element\n",
        "print(\"\\nPopping things:\")\n",
        "popped_thing = things.pop()    # removes and returns the last item in the list\n",
        "print(popped_thing)\n",
        "print(things)\n",
        "\n",
        "popped_thing2 = things.pop()\n",
        "print(popped_thing2)\n",
        "print(things)\n",
        "\n",
        "things.extend([100, 'milk', 25])  # extend the list with another list, different from append\n",
        "print(things)\n",
        "\n",
        "popped_thing3 = things.pop(1)     # remove and return the item at a specific position in the list\n",
        "print(popped_thing3)\n",
        "print(things)"
      ],
      "metadata": {
        "id": "ioVYDQco-faF",
        "colab": {
          "base_uri": "https://localhost:8080/"
        },
        "outputId": "02045df3-7978-4b25-ab6b-3285a6c8f66c"
      },
      "execution_count": null,
      "outputs": [
        {
          "output_type": "stream",
          "name": "stdout",
          "text": [
            "['bread', 42, False, 9.99, 'eggs']\n",
            "1\n",
            "\n",
            "Removing things:\n",
            "['bread', 42, False, 9.99]\n",
            "\n",
            "Popping things:\n",
            "9.99\n",
            "['bread', 42, False]\n",
            "False\n",
            "['bread', 42]\n",
            "['bread', 42, 100, 'milk', 25]\n",
            "42\n",
            "['bread', 100, 'milk', 25]\n"
          ]
        }
      ]
    },
    {
      "cell_type": "code",
      "source": [
        "nums = [2, 3, 4, 3 ,2 ,1 ,2]\n",
        "print(nums.count(2))\n",
        "nums.remove(2)\n",
        "nums.pop(0)\n",
        "print(nums)\n",
        "\n",
        "nums.pop()\n",
        "print(nums)"
      ],
      "metadata": {
        "colab": {
          "base_uri": "https://localhost:8080/"
        },
        "id": "7CbHXbb_rIVc",
        "outputId": "01d4e267-525c-435f-f8fe-0bebd055868d"
      },
      "execution_count": null,
      "outputs": [
        {
          "output_type": "stream",
          "name": "stdout",
          "text": [
            "3\n",
            "[4, 3, 2, 1, 2]\n",
            "[4, 3, 2, 1]\n"
          ]
        }
      ]
    },
    {
      "cell_type": "code",
      "source": [
        "# More list operations\n",
        "\n",
        "things = ['bread', 42, False, 9.99]\n",
        "\n",
        "print(len(things))          # find the length of a list\n",
        "print('bread' in things)    # check if an item is in a list\n",
        "print('coconut' in things)\n",
        "\n",
        "print('List before deleting is', things)\n",
        "del things[2]               # delete an item at a specific position in a list\n",
        "print(things)\n",
        "print('List after deleting is', things)\n",
        "\n",
        "things[0] = 'head'          # change an item at a specific position in a list\n",
        "print(things)"
      ],
      "metadata": {
        "id": "gX3TZKDqCSkQ",
        "colab": {
          "base_uri": "https://localhost:8080/"
        },
        "outputId": "ee932570-ffaa-4cce-be43-ac3c314366e3"
      },
      "execution_count": null,
      "outputs": [
        {
          "output_type": "stream",
          "name": "stdout",
          "text": [
            "4\n",
            "True\n",
            "False\n",
            "List before deleting is ['bread', 42, False, 9.99]\n",
            "['bread', 42, 9.99]\n",
            "List after deleting is ['bread', 42, 9.99]\n",
            "['head', 42, 9.99]\n"
          ]
        }
      ]
    },
    {
      "cell_type": "markdown",
      "source": [
        "## Tuples\n",
        "\n",
        "Tuples are a less flexible (immutable) version of lists.\n",
        "\n",
        "You can't append / extend / pop items of a tuple.\n",
        "But you can find index of specific items in a tuple."
      ],
      "metadata": {
        "id": "R9rUuSSIBpsP"
      }
    },
    {
      "cell_type": "code",
      "source": [
        "tuple_of_things = ('bread', 42, False, 9.99, 'bread')\n",
        "\n",
        "print(tuple_of_things)\n",
        "print(type(tuple_of_things))\n",
        "\n",
        "print(tuple_of_things.index('bread'))    # shows the 1st position of item 'Bread' in a tuple\n",
        "first=tuple_of_things.index('bread')\n",
        "print(tuple_of_things.index('bread', first+1)) # shows the 2nd position of item 'Bread'"
      ],
      "metadata": {
        "id": "NPfQWtJKEy2-",
        "colab": {
          "base_uri": "https://localhost:8080/"
        },
        "outputId": "493dbb83-ba2a-4cf3-a8aa-102b1a07c945"
      },
      "execution_count": null,
      "outputs": [
        {
          "output_type": "stream",
          "name": "stdout",
          "text": [
            "('bread', 42, False, 9.99, 'bread')\n",
            "<class 'tuple'>\n",
            "0\n",
            "4\n"
          ]
        }
      ]
    },
    {
      "cell_type": "code",
      "source": [
        "newtuple =(1, 2, 3, 2, 1)\n",
        "print(newtuple.index(2))\n",
        "print('Item 2 is in position', newtuple.index(2))\n",
        "print('Item 1 is in position', newtuple.index(1))"
      ],
      "metadata": {
        "colab": {
          "base_uri": "https://localhost:8080/"
        },
        "id": "bwzMMnx6yMeO",
        "outputId": "5dc7159d-4e21-48b3-ddc9-3eadfe4f2a02"
      },
      "execution_count": null,
      "outputs": [
        {
          "output_type": "stream",
          "name": "stdout",
          "text": [
            "1\n",
            "Item 2 is in position 1\n",
            "Item 1 is in position 0\n"
          ]
        }
      ]
    },
    {
      "cell_type": "code",
      "source": [
        "tuple_of_things.pop()     # tuple has no pop method!"
      ],
      "metadata": {
        "id": "Yu-giSl1FBKr"
      },
      "execution_count": null,
      "outputs": []
    },
    {
      "cell_type": "code",
      "source": [
        "tuple_of_things.append('eggs')     # tuple has no append method!"
      ],
      "metadata": {
        "id": "NLDGggXIFbgM"
      },
      "execution_count": null,
      "outputs": []
    },
    {
      "cell_type": "code",
      "source": [
        "tuple_of_things = tuple_of_things + ('eggs',)\n",
        "print(tuple_of_things)"
      ],
      "metadata": {
        "id": "UXY54ZmRFpvS"
      },
      "execution_count": null,
      "outputs": []
    },
    {
      "cell_type": "markdown",
      "source": [
        "## Sets\n",
        "\n",
        "A set is an unordered collection of items, whereas a list is an ordered collection of items.\n",
        "\n",
        "A set cannot have duplicate objects, whereas a list can."
      ],
      "metadata": {
        "id": "xsFFWZ5-GTIl"
      }
    },
    {
      "cell_type": "code",
      "source": [
        "set_of_things = {'bread', 42, False, 9.99}\n",
        "\n",
        "print(set_of_things)\n",
        "print(type(set_of_things))"
      ],
      "metadata": {
        "id": "Jr6Pb0wJG7Vh",
        "colab": {
          "base_uri": "https://localhost:8080/"
        },
        "outputId": "3d10e7ae-7390-48ce-ac0e-3198a338f879"
      },
      "execution_count": null,
      "outputs": [
        {
          "output_type": "stream",
          "name": "stdout",
          "text": [
            "{False, 9.99, 'bread', 42}\n",
            "<class 'set'>\n"
          ]
        }
      ]
    },
    {
      "cell_type": "code",
      "source": [
        "mylist = [1, 2, 3, 3, 2, 2, 3, 4, 5]\n",
        "myset = set(mylist)     # convert a list to a set, drop the duplicates\n",
        "print(myset)"
      ],
      "metadata": {
        "id": "UaCMhPyZKaYT",
        "colab": {
          "base_uri": "https://localhost:8080/"
        },
        "outputId": "9cc27b89-409f-4449-8cb6-b3a4265b02e2"
      },
      "execution_count": null,
      "outputs": [
        {
          "output_type": "stream",
          "name": "stdout",
          "text": [
            "{1, 2, 3, 4, 5}\n"
          ]
        }
      ]
    },
    {
      "cell_type": "code",
      "source": [
        "mylist2 = list(myset)\n",
        "print(mylist2)"
      ],
      "metadata": {
        "id": "cv0kwoX20RNO"
      },
      "execution_count": null,
      "outputs": []
    },
    {
      "cell_type": "code",
      "source": [
        "# set cannot have duplicates\n",
        "\n",
        "set1 = {1, 2, 3, 4}\n",
        "set2 = {2, 1, 4, 3}\n",
        "\n",
        "print(set1 == set2)\n",
        "\n",
        "list1 = [1, 2, 3, 4]\n",
        "list2 = [2, 1, 4, 3]\n",
        "\n",
        "print(list1 == list2)\n",
        "\n",
        "set1 = {'a', 'b', 'c', 'd'}\n",
        "set2 = {'c', 'd', 'b', 'a'} # doesn't manage to sort in alphabetic order\n",
        "print(set2)\n",
        "print(set1 == set2)"
      ],
      "metadata": {
        "id": "VLND16TGKzkw",
        "colab": {
          "base_uri": "https://localhost:8080/"
        },
        "outputId": "e01e6aa0-a31b-4609-e7c7-706b458ec25e"
      },
      "execution_count": null,
      "outputs": [
        {
          "output_type": "stream",
          "name": "stdout",
          "text": [
            "True\n",
            "False\n",
            "{'c', 'b', 'd', 'a'}\n",
            "True\n"
          ]
        }
      ]
    },
    {
      "cell_type": "code",
      "source": [
        "# Built-in methods for sets\n",
        "\n",
        "set1 = {1, 2, 3, 4}\n",
        "set2 = {3, 4, 5, 6}\n",
        "\n",
        "print('Union', set1.union(set2))         # returns a new set that is the union of both sets\n",
        "print('Intersect', set1.intersection(set2))  # returns a new set that is the intersection of both sets\n",
        "print('Set 1 wrt set2', set1.difference(set2))    # returns the set difference\n",
        "print('Set 2 wrt set1', set2.difference(set1))    # returns the set difference\n",
        "\n",
        "print(set1.issubset(set2))      # checks if the set is a subset of another\n",
        "\n",
        "\n",
        "set1.add('banana')              # adds a new item to the set. The position does not matter!\n",
        "print(set1)\n",
        "set1.remove(1)                  # removes item 1 from the set\n",
        "print(set1)\n",
        "set1.remove('banana')                  # removes item 1 from the set\n",
        "print(set1)"
      ],
      "metadata": {
        "id": "GUA6-bbZLH-c",
        "colab": {
          "base_uri": "https://localhost:8080/"
        },
        "outputId": "f13ea58d-4eed-4c85-a829-9ac6b8940f75"
      },
      "execution_count": null,
      "outputs": [
        {
          "output_type": "stream",
          "name": "stdout",
          "text": [
            "Union {1, 2, 3, 4, 5, 6}\n",
            "Intersect {3, 4}\n",
            "Set 1 wrt set2 {1, 2}\n",
            "Set 2 wrt set1 {5, 6}\n",
            "False\n",
            "{1, 2, 3, 4, 'banana'}\n",
            "{2, 3, 4, 'banana'}\n",
            "{2, 3, 4}\n"
          ]
        }
      ]
    },
    {
      "cell_type": "markdown",
      "source": [
        "## Dictionaries\n",
        "\n",
        "A dictionary is a set of (key : value) pairs."
      ],
      "metadata": {
        "id": "U1kwv53nMStW"
      }
    },
    {
      "cell_type": "code",
      "source": [
        "affiliations = {'Muni': 'Dauphine', 'Alex': 'ENS', 'Raphael': 'Sorbonne', 'Olivier': 'CNRS'}\n",
        "pincodes = {75: 'Paris', 92: 'Nanterre', 94: 'Creteil'}\n",
        "# keys and values are separated by : but pairs of keys+values are separated by ,\n",
        "# keys are strings, values can be anything, even lists\n",
        "# the keys are not ordered, so the key-value in 2nd position is not identified\n",
        "\n",
        "napoleon = \\\n",
        " {'birth_year': 1769, \\\n",
        "  'death_year': 1821, \\\n",
        "  'title': 'Emperor', \\\n",
        "  'wives': ['Josephine', 'Marie-Louise']}\n",
        "\n",
        "print(affiliations)\n",
        "print(type(affiliations))\n",
        "\n",
        "print(affiliations['Muni']) # it returns the value\n",
        "print(pincodes[94])\n",
        "print(napoleon['wives'])\n",
        "\n",
        "aff={'Muni': ['Dauphine', pincodes[92]]}\n",
        "print(aff)"
      ],
      "metadata": {
        "id": "puWKSVn9Mvwh",
        "colab": {
          "base_uri": "https://localhost:8080/"
        },
        "outputId": "a9e8ba29-8e21-4304-af95-cda10f08103f"
      },
      "execution_count": null,
      "outputs": [
        {
          "output_type": "stream",
          "name": "stdout",
          "text": [
            "{'Muni': 'Dauphine', 'Alex': 'ENS', 'Raphael': 'Sorbonne', 'Olivier': 'CNRS'}\n",
            "<class 'dict'>\n",
            "Dauphine\n",
            "Creteil\n",
            "['Josephine', 'Marie-Louise']\n",
            "{'Muni': ['Dauphine', 'Nanterre']}\n"
          ]
        }
      ]
    },
    {
      "cell_type": "code",
      "source": [
        "# adding items to a dictionary\n",
        "\n",
        "pincodes[78] = 'Versailles'\n",
        "print(pincodes)\n",
        "\n",
        "# modifying a dictionary\n",
        "\n",
        "napoleon['title'] = 'Emperor of the French'\n",
        "print(napoleon)"
      ],
      "metadata": {
        "id": "fp2QfnkPdiLv"
      },
      "execution_count": null,
      "outputs": []
    },
    {
      "cell_type": "code",
      "source": [
        "# Built-in methods for dictionaries\n",
        "\n",
        "print(pincodes.keys())      # returns a list of keys\n",
        "print(pincodes.values())    # returns a list of values\n",
        "print(pincodes.items())     # returns a list of (key, value) pairs\n",
        "\n",
        "print('Nanterre' in pincodes.values())  # check if a value is in the dictionary\n",
        "print(pincodes.get(92))     # returns the value of a specific key in the dictionary"
      ],
      "metadata": {
        "id": "SBnyDdLbhR03",
        "colab": {
          "base_uri": "https://localhost:8080/"
        },
        "outputId": "96719574-8cb4-451f-90ce-ed5a8a877604"
      },
      "execution_count": null,
      "outputs": [
        {
          "output_type": "stream",
          "name": "stdout",
          "text": [
            "dict_keys([75, 92, 94])\n",
            "dict_values(['Paris', 'Nanterre', 'Creteil'])\n",
            "dict_items([(75, 'Paris'), (92, 'Nanterre'), (94, 'Creteil')])\n",
            "True\n",
            "Nanterre\n"
          ]
        }
      ]
    },
    {
      "cell_type": "markdown",
      "source": [
        "# Control Flow Tools\n",
        "\n",
        "Control flow tools allow us to change or repeat the flow of an algorithm subject to some conditions.\n",
        "\n"
      ],
      "metadata": {
        "id": "_IWNR3JLiXhE"
      }
    },
    {
      "cell_type": "markdown",
      "source": [
        "## If... Else"
      ],
      "metadata": {
        "id": "KSBkjfgfi4RJ"
      }
    },
    {
      "cell_type": "code",
      "source": [
        "score_string = input('Please enter a score out of 100:')\n",
        "score = int(score_string)\n",
        "\n",
        "if score >= 90:\n",
        "  print('Your grade is A.')         # NB: indentation is compulsary here!\n",
        "elif (score < 90) and (score >=80): # elif = else if\n",
        "  print('Your grade is B.')\n",
        "elif (score < 80) and (score >=70): # but here it's a new line of code, so not necessary\n",
        "  print('Your grade is C.')\n",
        "elif (score < 70) and (score >=60):\n",
        "  print('Your grade is D.')\n",
        "else:\n",
        "  print('You failed.')"
      ],
      "metadata": {
        "id": "fQn3XyRbi6WL",
        "colab": {
          "base_uri": "https://localhost:8080/"
        },
        "outputId": "1a18438b-5be3-4fdb-e46a-914a9dd5bb7b"
      },
      "execution_count": null,
      "outputs": [
        {
          "output_type": "stream",
          "name": "stdout",
          "text": [
            "Please enter a score out of 100: 7575\n",
            "Your grade is C.\n"
          ]
        }
      ]
    },
    {
      "cell_type": "markdown",
      "source": [
        "## While"
      ],
      "metadata": {
        "id": "rDcKhZ6PmmZC"
      }
    },
    {
      "cell_type": "code",
      "source": [
        "count = 0                   # create new var count = 0\n",
        "while count <= 10:          # checks that count is equal or less than 10\n",
        "  print('Hello world!')     # indentation is necessary\n",
        "  print('the current count is', count)\n",
        "  count = count + 1         # when count becomes =10 it stops"
      ],
      "metadata": {
        "colab": {
          "base_uri": "https://localhost:8080/"
        },
        "id": "hOUQO0BPmpBc",
        "outputId": "e8a7c265-23f5-4e13-fa1e-e0e7dc08e425"
      },
      "execution_count": null,
      "outputs": [
        {
          "output_type": "stream",
          "name": "stdout",
          "text": [
            "Hello world!\n",
            "the current count is 0\n",
            "Hello world!\n",
            "the current count is 1\n",
            "Hello world!\n",
            "the current count is 2\n",
            "Hello world!\n",
            "the current count is 3\n",
            "Hello world!\n",
            "the current count is 4\n",
            "Hello world!\n",
            "the current count is 5\n",
            "Hello world!\n",
            "the current count is 6\n",
            "Hello world!\n",
            "the current count is 7\n",
            "Hello world!\n",
            "the current count is 8\n",
            "Hello world!\n",
            "the current count is 9\n",
            "Hello world!\n",
            "the current count is 10\n"
          ]
        }
      ]
    },
    {
      "cell_type": "code",
      "source": [
        "count = 0\n",
        "while count <= 10:\n",
        "  if count == 0:\n",
        "    print('Hello world!')\n",
        "  else:\n",
        "    print('Hello again!')\n",
        "  count = count + 1"
      ],
      "metadata": {
        "colab": {
          "base_uri": "https://localhost:8080/"
        },
        "id": "A1HqM-khnKEb",
        "outputId": "991dcf10-7f68-442b-ced1-3b8d2b6e7ce5"
      },
      "execution_count": null,
      "outputs": [
        {
          "output_type": "stream",
          "name": "stdout",
          "text": [
            "Hello world!\n",
            "Hello again!\n",
            "Hello again!\n",
            "Hello again!\n",
            "Hello again!\n",
            "Hello again!\n",
            "Hello again!\n",
            "Hello again!\n",
            "Hello again!\n",
            "Hello again!\n",
            "Hello again!\n"
          ]
        }
      ]
    },
    {
      "cell_type": "markdown",
      "source": [
        "## For"
      ],
      "metadata": {
        "id": "4ygwJ6D3nhbm"
      }
    },
    {
      "cell_type": "code",
      "source": [
        "# Looping through a list\n",
        "\n",
        "print(things)\n",
        "\n",
        "for item in things:     # Python loops over all items of the list\n",
        "  print('Here is an item: ', item)\n",
        "\n",
        "for blah in things[:3]:\n",
        "  print('Here is an item: ', blah)"
      ],
      "metadata": {
        "colab": {
          "base_uri": "https://localhost:8080/"
        },
        "id": "TPFpoVUdnjO7",
        "outputId": "00b102d3-5a62-4981-9335-028b7c594489"
      },
      "execution_count": null,
      "outputs": [
        {
          "output_type": "stream",
          "name": "stdout",
          "text": [
            "['head', 42, 9.99]\n",
            "Here is an item:  head\n",
            "Here is an item:  42\n",
            "Here is an item:  9.99\n",
            "Here is an item:  head\n",
            "Here is an item:  42\n",
            "Here is an item:  9.99\n"
          ]
        }
      ]
    },
    {
      "cell_type": "code",
      "source": [
        "# Looping through a string\n",
        "\n",
        "name = 'Napoleon'\n",
        "\n",
        "for blabla in name:   # Python loops over all components of the string variable name\n",
        "  print(blabla)"
      ],
      "metadata": {
        "colab": {
          "base_uri": "https://localhost:8080/"
        },
        "id": "IlD458cFnxMg",
        "outputId": "05e839ed-dc05-4c99-d2bd-c5c962092cdd"
      },
      "execution_count": null,
      "outputs": [
        {
          "output_type": "stream",
          "name": "stdout",
          "text": [
            "N\n",
            "a\n",
            "p\n",
            "o\n",
            "l\n",
            "e\n",
            "o\n",
            "n\n"
          ]
        }
      ]
    },
    {
      "cell_type": "code",
      "source": [
        "# Looping through a dictionary\n",
        "\n",
        "print(pincodes)\n",
        "\n",
        "for key, value in pincodes.items():\n",
        "  print('The pincode of ' + value + ' is ' + str(key) + '.')\n",
        "  if value == 'Nanterre':\n",
        "    print('This is where I currently live.')"
      ],
      "metadata": {
        "colab": {
          "base_uri": "https://localhost:8080/"
        },
        "id": "b8l5r7hnn5VM",
        "outputId": "7b260671-150b-4e5b-ba46-ba8a48481a16"
      },
      "execution_count": null,
      "outputs": [
        {
          "output_type": "stream",
          "name": "stdout",
          "text": [
            "{75: 'Paris', 92: 'Nanterre', 94: 'Creteil', 78: 'Versailles'}\n",
            "The pincode of Paris is 75.\n",
            "The pincode of Nanterre is 92.\n",
            "This is where I currently live.\n",
            "The pincode of Creteil is 94.\n",
            "The pincode of Versailles is 78.\n"
          ]
        }
      ]
    },
    {
      "cell_type": "code",
      "source": [
        "# Looping through a range - similar to above, but don't need the count function\n",
        "\n",
        "print(list(range(10)))\n",
        "\n",
        "for count in range(10):\n",
        "  print('Hello world!')"
      ],
      "metadata": {
        "colab": {
          "base_uri": "https://localhost:8080/"
        },
        "id": "0XO5zwipqOVu",
        "outputId": "8572464e-5702-42d2-8b3a-d90399a56638"
      },
      "execution_count": null,
      "outputs": [
        {
          "output_type": "stream",
          "name": "stdout",
          "text": [
            "[0, 1, 2, 3, 4, 5, 6, 7, 8, 9]\n",
            "Hello world!\n",
            "Hello world!\n",
            "Hello world!\n",
            "Hello world!\n",
            "Hello world!\n",
            "Hello world!\n",
            "Hello world!\n",
            "Hello world!\n",
            "Hello world!\n",
            "Hello world!\n"
          ]
        }
      ]
    },
    {
      "cell_type": "code",
      "source": [
        "ranking = ['Alex', 'Bob', 'Charlie', 'David']   # ranking is a list of strings\n",
        "\n",
        "for rank in range(len(ranking)):\n",
        "  print(rank+1, ranking[rank])"
      ],
      "metadata": {
        "colab": {
          "base_uri": "https://localhost:8080/"
        },
        "id": "SsxmoTHAqi9s",
        "outputId": "fb05b055-9ab0-4282-839d-e521e47501bf"
      },
      "execution_count": null,
      "outputs": [
        {
          "output_type": "stream",
          "name": "stdout",
          "text": [
            "1 Alex\n",
            "2 Bob\n",
            "3 Charlie\n",
            "4 David\n"
          ]
        }
      ]
    },
    {
      "cell_type": "code",
      "source": [
        "for index, item in enumerate(ranking):    # can include index and item in the same loop\n",
        "  print(index+1, item)"
      ],
      "metadata": {
        "colab": {
          "base_uri": "https://localhost:8080/"
        },
        "id": "67WKxlg7rBX-",
        "outputId": "1f5d23d5-cb8d-407a-ab57-5917d7571d42"
      },
      "execution_count": null,
      "outputs": [
        {
          "output_type": "stream",
          "name": "stdout",
          "text": [
            "1 Alex\n",
            "2 Bob\n",
            "3 Charlie\n",
            "4 David\n"
          ]
        }
      ]
    },
    {
      "cell_type": "code",
      "source": [
        "# list comprehensions\n",
        "\n",
        "nums = [x for x in range(10)]\n",
        "print(nums)\n",
        "\n",
        "squared_nums = [x*x for x in nums]\n",
        "print(squared_nums)"
      ],
      "metadata": {
        "colab": {
          "base_uri": "https://localhost:8080/"
        },
        "id": "dXUROlTOraZV",
        "outputId": "5e4237c3-dbef-4bb0-f77f-b99ee13c95e4"
      },
      "execution_count": null,
      "outputs": [
        {
          "output_type": "stream",
          "name": "stdout",
          "text": [
            "[0, 1, 2, 3, 4, 5, 6, 7, 8, 9]\n",
            "[0, 1, 4, 9, 16, 25, 36, 49, 64, 81]\n"
          ]
        }
      ]
    },
    {
      "cell_type": "code",
      "source": [
        "nums = []\n",
        "for i in range(10):\n",
        "  nums.append(i)\n",
        "\n",
        "  print('In the loop', nums)\n",
        "\n",
        "# not the same output due to different indentation\n",
        "nums = []\n",
        "for i in range(10):\n",
        "  nums.append(i)\n",
        "\n",
        "print('Out of the loop', nums)"
      ],
      "metadata": {
        "id": "UCVer2GFr4OJ",
        "colab": {
          "base_uri": "https://localhost:8080/"
        },
        "outputId": "7e0ead59-d30f-4dcd-9676-a1b0d1f36f7b"
      },
      "execution_count": null,
      "outputs": [
        {
          "output_type": "stream",
          "name": "stdout",
          "text": [
            "In the loop [0]\n",
            "In the loop [0, 1]\n",
            "In the loop [0, 1, 2]\n",
            "In the loop [0, 1, 2, 3]\n",
            "In the loop [0, 1, 2, 3, 4]\n",
            "In the loop [0, 1, 2, 3, 4, 5]\n",
            "In the loop [0, 1, 2, 3, 4, 5, 6]\n",
            "In the loop [0, 1, 2, 3, 4, 5, 6, 7]\n",
            "In the loop [0, 1, 2, 3, 4, 5, 6, 7, 8]\n",
            "In the loop [0, 1, 2, 3, 4, 5, 6, 7, 8, 9]\n",
            "Out of the loop [0, 1, 2, 3, 4, 5, 6, 7, 8, 9]\n"
          ]
        }
      ]
    },
    {
      "cell_type": "markdown",
      "source": [
        "# Functions\n",
        "\n",
        "A function is a block of code that can be reused. Like a mathematical function, it takes an input and returns an output."
      ],
      "metadata": {
        "id": "Ca2GA14Ote_y"
      }
    },
    {
      "cell_type": "code",
      "source": [
        "# True if it's an even nb, False if it's an odd nb\n",
        "# Keyword is def: define the function, with inputs in brackets\n",
        "def isiteven(n):\n",
        "  if n%2 == 0:\n",
        "    return True\n",
        "  else:\n",
        "    return False\n",
        "\n",
        "print(isiteven(10))\n",
        "print(isiteven(23))\n",
        "\n",
        "nums = [x for x in range(20, 30)]\n",
        "\n",
        "for n in nums:\n",
        "  print(n, isiteven(n))"
      ],
      "metadata": {
        "colab": {
          "base_uri": "https://localhost:8080/"
        },
        "id": "pR01UtHouMIJ",
        "outputId": "7b1419d6-8621-42e5-ed89-ca1d9da15274"
      },
      "execution_count": null,
      "outputs": [
        {
          "output_type": "stream",
          "name": "stdout",
          "text": [
            "True\n",
            "False\n",
            "20 True\n",
            "21 False\n",
            "22 True\n",
            "23 False\n",
            "24 True\n",
            "25 False\n",
            "26 True\n",
            "27 False\n",
            "28 True\n",
            "29 False\n"
          ]
        }
      ]
    },
    {
      "cell_type": "code",
      "source": [
        "# A function with multiple arguments\n",
        "\n",
        "def sum2(n1, n2):\n",
        "  return n1+n2\n",
        "\n",
        "print(sum2(2, 3))\n",
        "print(sum2(n1 = 2, n2 = 3))   # keyword arguments\n",
        "print(sum2(10))"
      ],
      "metadata": {
        "colab": {
          "base_uri": "https://localhost:8080/",
          "height": 216
        },
        "id": "5qKU2CIzvrkU",
        "outputId": "a241c9b3-7cad-4813-cb9c-de13b17042e1"
      },
      "execution_count": null,
      "outputs": [
        {
          "output_type": "stream",
          "name": "stdout",
          "text": [
            "5\n",
            "5\n"
          ]
        },
        {
          "output_type": "error",
          "ename": "TypeError",
          "evalue": "sum2() missing 1 required positional argument: 'n2'",
          "traceback": [
            "\u001b[0;31m---------------------------------------------------------------------------\u001b[0m",
            "\u001b[0;31mTypeError\u001b[0m                                 Traceback (most recent call last)",
            "\u001b[0;32m<ipython-input-182-c4f7cde6f17f>\u001b[0m in \u001b[0;36m<cell line: 8>\u001b[0;34m()\u001b[0m\n\u001b[1;32m      6\u001b[0m \u001b[0mprint\u001b[0m\u001b[0;34m(\u001b[0m\u001b[0msum2\u001b[0m\u001b[0;34m(\u001b[0m\u001b[0;36m2\u001b[0m\u001b[0;34m,\u001b[0m \u001b[0;36m3\u001b[0m\u001b[0;34m)\u001b[0m\u001b[0;34m)\u001b[0m\u001b[0;34m\u001b[0m\u001b[0;34m\u001b[0m\u001b[0m\n\u001b[1;32m      7\u001b[0m \u001b[0mprint\u001b[0m\u001b[0;34m(\u001b[0m\u001b[0msum2\u001b[0m\u001b[0;34m(\u001b[0m\u001b[0mn1\u001b[0m \u001b[0;34m=\u001b[0m \u001b[0;36m2\u001b[0m\u001b[0;34m,\u001b[0m \u001b[0mn2\u001b[0m \u001b[0;34m=\u001b[0m \u001b[0;36m3\u001b[0m\u001b[0;34m)\u001b[0m\u001b[0;34m)\u001b[0m\u001b[0;34m\u001b[0m\u001b[0;34m\u001b[0m\u001b[0m\n\u001b[0;32m----> 8\u001b[0;31m \u001b[0mprint\u001b[0m\u001b[0;34m(\u001b[0m\u001b[0msum2\u001b[0m\u001b[0;34m(\u001b[0m\u001b[0;36m10\u001b[0m\u001b[0;34m)\u001b[0m\u001b[0;34m)\u001b[0m\u001b[0;34m\u001b[0m\u001b[0;34m\u001b[0m\u001b[0m\n\u001b[0m",
            "\u001b[0;31mTypeError\u001b[0m: sum2() missing 1 required positional argument: 'n2'"
          ]
        }
      ]
    },
    {
      "cell_type": "code",
      "source": [
        "# A function with keyword arguments (arguments are the function inputs)\n",
        "\n",
        "def printname(firstname, lastname, gender):\n",
        "  if gender == 'male':\n",
        "    print('Hello Mr.', lastname)\n",
        "  elif gender == 'female':\n",
        "    print('Hello Ms.', lastname)\n",
        "  # Note that this function does not explicitly return anything.\n",
        "\n",
        "printname(lastname = 'Bonaparte', firstname = 'Napoleon', gender = 'male')\n",
        "printname('Napoleon', 'Bonaparte', 'male')\n",
        "\n",
        "print(printname('Napoleon', 'Bonaparte', 'male'))"
      ],
      "metadata": {
        "colab": {
          "base_uri": "https://localhost:8080/"
        },
        "id": "tGGkPCfYwXTW",
        "outputId": "18a2457f-02c6-4289-b9ab-177dcd96a9ef"
      },
      "execution_count": null,
      "outputs": [
        {
          "output_type": "stream",
          "name": "stdout",
          "text": [
            "Hello Mr. Bonaparte\n",
            "Hello Mr. Bonaparte\n",
            "Hello Mr. Bonaparte\n",
            "None\n"
          ]
        }
      ]
    },
    {
      "cell_type": "markdown",
      "source": [
        "# Classes\n",
        "\n",
        "In python, a \"class\" is an abstract datatype.\n",
        "An \"object\" can belong to one class or another.\n",
        "An object belonging to a class inherits all the \"methods\" of that class."
      ],
      "metadata": {
        "id": "VL6XWZvKx8A5"
      }
    },
    {
      "cell_type": "code",
      "source": [
        " # Person is the class that denotes the var - class is the command\n",
        " # self is the memory to which Person refers to\n",
        " # define the methods of Person: casualhello and formalhello\n",
        " # Person has 3 attributes (firstname, lastname, gender) - need to provide all of them\n",
        "class Person:\n",
        "  def __init__(self, firstname, lastname, gender):\n",
        "    self.firstname = firstname\n",
        "    self.lastname = lastname\n",
        "    self.gender = gender\n",
        "\n",
        "  def casualhello(self):\n",
        "    print('Hello ' + self.firstname + '.')\n",
        "\n",
        "  def formalhello(self):\n",
        "    if self.gender == 'male':\n",
        "      print('Hello Mr. ' + self.lastname + '.')\n",
        "    elif self.gender == 'female':\n",
        "      print('Hello Ms. ' + self.lastname + '.')\n",
        "\n",
        "napoleon = Person('Napoleon', 'Bonaparte', 'male')\n",
        "\n",
        "print(napoleon)\n",
        "\n",
        "napoleon.casualhello()\n",
        "napoleon.formalhello()\n",
        "\n",
        "marie = Person('Marie', 'Antoinette', 'female')\n",
        "marie.formalhello()\n",
        "\n",
        "print('\\nList of persons:')\n",
        "\n",
        "persons_list = [napoleon, marie]\n",
        "\n",
        "for p in persons_list:\n",
        "  p.formalhello()"
      ],
      "metadata": {
        "colab": {
          "base_uri": "https://localhost:8080/"
        },
        "id": "kjC7w2oh259q",
        "outputId": "e084f98a-b9ca-4fb9-b8f0-7174e32fc500"
      },
      "execution_count": null,
      "outputs": [
        {
          "output_type": "stream",
          "name": "stdout",
          "text": [
            "<__main__.Person object at 0x7dad20a92b30>\n",
            "Hello Napoleon.\n",
            "Hello Mr. Bonaparte.\n",
            "Hello Ms. Antoinette.\n",
            "\n",
            "List of persons:\n",
            "Hello Mr. Bonaparte.\n",
            "Hello Ms. Antoinette.\n"
          ]
        }
      ]
    },
    {
      "cell_type": "code",
      "source": [
        "# Changing object properties\n",
        "\n",
        "print(marie.lastname)\n",
        "\n",
        "marie.lastname = 'Curie'\n",
        "\n",
        "marie.formalhello()"
      ],
      "metadata": {
        "colab": {
          "base_uri": "https://localhost:8080/"
        },
        "id": "UmJGx8Bh5lub",
        "outputId": "473fdadc-cb02-4b9e-e6df-d91c0c25ccb4"
      },
      "execution_count": null,
      "outputs": [
        {
          "output_type": "stream",
          "name": "stdout",
          "text": [
            "Antoinette\n",
            "Hello Ms. Curie.\n"
          ]
        }
      ]
    }
  ]
}