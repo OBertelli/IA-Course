{
  "nbformat": 4,
  "nbformat_minor": 0,
  "metadata": {
    "colab": {
      "provenance": [],
      "toc_visible": true,
      "include_colab_link": true
    },
    "kernelspec": {
      "name": "python3",
      "display_name": "Python 3"
    },
    "language_info": {
      "name": "python"
    }
  },
  "cells": [
    {
      "cell_type": "markdown",
      "metadata": {
        "id": "view-in-github",
        "colab_type": "text"
      },
      "source": [
        "<a href=\"https://colab.research.google.com/github/OBertelli/IA-Course/blob/main/DSA_lecture6.ipynb\" target=\"_parent\"><img src=\"https://colab.research.google.com/assets/colab-badge.svg\" alt=\"Open In Colab\"/></a>"
      ]
    },
    {
      "cell_type": "code",
      "execution_count": null,
      "metadata": {
        "id": "Tqm3bsdcjJo8"
      },
      "outputs": [],
      "source": []
    },
    {
      "cell_type": "markdown",
      "source": [
        "# Trees"
      ],
      "metadata": {
        "id": "V95eyfjljOos"
      }
    },
    {
      "cell_type": "markdown",
      "source": [
        "## Tree Data Structure"
      ],
      "metadata": {
        "id": "nLfinvIsjXF3"
      }
    },
    {
      "cell_type": "code",
      "source": [
        "# Tree\n",
        "\n",
        "class TreeNode:\n",
        "  def __init__(self, value):\n",
        "    self.value = value\n",
        "    self.left = None\n",
        "    self.right = None\n",
        "\n",
        "# Create a root node\n",
        "root = TreeNode('A')\n",
        "\n",
        "# Create the left subtree\n",
        "root.left = TreeNode('B')\n",
        "root.left.left = TreeNode('C')\n",
        "root.left.right = TreeNode('D')\n",
        "\n",
        "# Create the right subtree\n",
        "root.right = TreeNode('E')\n",
        "root.right.left = TreeNode('F')\n",
        "root.right.right = TreeNode('G')\n"
      ],
      "metadata": {
        "id": "HLRgpOKdja-m"
      },
      "execution_count": null,
      "outputs": []
    },
    {
      "cell_type": "markdown",
      "source": [
        "## Tree traversals - DFS"
      ],
      "metadata": {
        "id": "1aZ9aJSql1JP"
      }
    },
    {
      "cell_type": "code",
      "source": [
        "# Binary tree traversals\n",
        "\n",
        "# In-order traversal\n",
        "def inorder_traversal(root):\n",
        "  if root:\n",
        "    inorder_traversal(root.left)\n",
        "    print(root.value)\n",
        "    inorder_traversal(root.right)\n",
        "\n",
        "# Pre-order traversal\n",
        "def preorder_traversal(root):\n",
        "  if root:\n",
        "    print(root.value)\n",
        "    preorder_traversal(root.left)\n",
        "    preorder_traversal(root.right)\n",
        "\n",
        "# Post-order traversal\n",
        "def postorder_traversal(root):\n",
        "  if root:\n",
        "    postorder_traversal(root.left)\n",
        "    postorder_traversal(root.right)\n",
        "    print(root.value)\n",
        "\n",
        "# Test the traversals\n",
        "print('In-order traversal: ')\n",
        "inorder_traversal(root)\n",
        "print('Pre-order traversal: ')\n",
        "preorder_traversal(root)\n",
        "print('Post-order traversal: ')\n",
        "postorder_traversal(root)\n"
      ],
      "metadata": {
        "colab": {
          "base_uri": "https://localhost:8080/"
        },
        "id": "fiv56MhJljoH",
        "outputId": "2fe14818-92c4-4783-a680-7fe134d2a54b"
      },
      "execution_count": null,
      "outputs": [
        {
          "output_type": "stream",
          "name": "stdout",
          "text": [
            "In-order traversal: \n",
            "C\n",
            "B\n",
            "D\n",
            "A\n",
            "F\n",
            "E\n",
            "G\n",
            "Pre-order traversal: \n",
            "A\n",
            "B\n",
            "C\n",
            "D\n",
            "E\n",
            "F\n",
            "G\n",
            "Post-order traversal: \n",
            "C\n",
            "D\n",
            "B\n",
            "F\n",
            "G\n",
            "E\n",
            "A\n"
          ]
        }
      ]
    },
    {
      "cell_type": "markdown",
      "source": [
        "## Check if a Tree is balanced\n",
        "\n",
        "https://leetcode.com/problems/balanced-binary-tree/description/\n",
        "\n"
      ],
      "metadata": {
        "id": "HpuFZxbtqXv6"
      }
    },
    {
      "cell_type": "code",
      "source": [
        "# Method to check if a tree is balanced\n",
        "\n",
        "def isBalanced(root):\n",
        "    def dfs(root):\n",
        "        if root is None:\n",
        "            return [True, 0]\n",
        "\n",
        "        left_dfs = dfs(root.left)\n",
        "        right_dfs = dfs(root.right)\n",
        "        balanced = left_dfs[0] and right_dfs[0] and abs(left_dfs[1] - right_dfs[1]) <= 1\n",
        "\n",
        "        return [balanced, 1 + max(left_dfs[1], right_dfs[1])]\n",
        "\n",
        "    return dfs(root)[0]\n",
        "\n",
        "# Test the method\n",
        "\n",
        "inorder_traversal(root)\n",
        "print(isBalanced(root))\n",
        "\n",
        "root.right.right.right = TreeNode('New')\n",
        "inorder_traversal(root)\n",
        "print(isBalanced(root))\n",
        "\n",
        "root.right.right.right.right = TreeNode('New2')\n",
        "inorder_traversal(root)\n",
        "print(isBalanced(root))\n"
      ],
      "metadata": {
        "colab": {
          "base_uri": "https://localhost:8080/"
        },
        "id": "UX96UcdvqgF7",
        "outputId": "b2181460-bb40-4e58-80da-c678c1141eef"
      },
      "execution_count": null,
      "outputs": [
        {
          "output_type": "stream",
          "name": "stdout",
          "text": [
            "C\n",
            "B\n",
            "D\n",
            "A\n",
            "F\n",
            "E\n",
            "G\n",
            "New\n",
            "New2\n",
            "False\n",
            "C\n",
            "B\n",
            "D\n",
            "A\n",
            "F\n",
            "E\n",
            "G\n",
            "New\n",
            "True\n",
            "C\n",
            "B\n",
            "D\n",
            "A\n",
            "F\n",
            "E\n",
            "G\n",
            "New\n",
            "New2\n",
            "False\n"
          ]
        }
      ]
    },
    {
      "cell_type": "markdown",
      "source": [
        "## Check for BST property\n",
        "\n",
        "https://leetcode.com/problems/validate-binary-search-tree/description/"
      ],
      "metadata": {
        "id": "AhIr6HZrtPAp"
      }
    },
    {
      "source": [
        "# Method to check if a tree is BST\n",
        "\n",
        "def isBST(root):\n",
        "    # Define the valid function\n",
        "    def valid(node, left_bound, right_bound):\n",
        "        if node is None:\n",
        "            return True\n",
        "\n",
        "        if not (node.value > left_bound) and (node.value < right_bound):\n",
        "            return False\n",
        "\n",
        "        left_valid = valid(node.left, left_bound, node.value)\n",
        "        right_valid = valid(node.right, node.value, right_bound)\n",
        "\n",
        "        return left_valid and right_valid\n",
        "\n",
        "    # Pass the root node to the valid function\n",
        "    return valid(root, float('-inf'), float('inf'))\n",
        "\n",
        "\n",
        "\n",
        "# Testing the method\n",
        "\n",
        "root = TreeNode(5)\n",
        "root.left = TreeNode(3)\n",
        "root.right = TreeNode(7)\n",
        "root.right.left = TreeNode(4)\n",
        "root.right.right = TreeNode(8)\n",
        "\n",
        "inorder_traversal(root)\n",
        "print(isBST(root))\n",
        "\n",
        "root = TreeNode(5)\n",
        "root.left = TreeNode(3)\n",
        "root.right = TreeNode(7)\n",
        "root.right.left = TreeNode(6)\n",
        "root.right.right = TreeNode(8)\n",
        "\n",
        "inorder_traversal(root)\n",
        "print(isBST(root))\n"
      ],
      "cell_type": "code",
      "metadata": {
        "colab": {
          "base_uri": "https://localhost:8080/"
        },
        "id": "m4_-XVhe5Pw2",
        "outputId": "f4f0109b-7701-47cc-96e9-bcaeb8169fad"
      },
      "execution_count": null,
      "outputs": [
        {
          "output_type": "stream",
          "name": "stdout",
          "text": [
            "3\n",
            "5\n",
            "4\n",
            "7\n",
            "8\n",
            "False\n",
            "3\n",
            "5\n",
            "6\n",
            "7\n",
            "8\n",
            "True\n"
          ]
        }
      ]
    },
    {
      "cell_type": "code",
      "source": [
        "# Non-recursive Method to check if a tree is BST\n",
        "\n",
        "def isBST2(root):\n",
        "    if root is None:\n",
        "        return True\n",
        "\n",
        "    stack = [(root, -float('inf'), float('inf'))]\n",
        "\n",
        "    while len(stack):\n",
        "        #print(stack)\n",
        "        node, left, right = stack.pop()\n",
        "        if node.value <= left or node.value >= right:\n",
        "            return False\n",
        "        if node.left:\n",
        "            stack.append((node.left, left, node.value))\n",
        "        if node.right:\n",
        "            stack.append((node.right, node.value, right))\n",
        "    return True\n",
        "\n",
        "# Testing the method\n",
        "\n",
        "root = TreeNode(5)\n",
        "root.left = TreeNode(3)\n",
        "root.right = TreeNode(7)\n",
        "root.right.left = TreeNode(4)\n",
        "root.right.right = TreeNode(8)\n",
        "\n",
        "inorder_traversal(root)\n",
        "print(isBST2(root))\n",
        "\n",
        "root = TreeNode(5)\n",
        "root.left = TreeNode(3)\n",
        "root.right = TreeNode(7)\n",
        "root.right.left = TreeNode(6)\n",
        "root.right.right = TreeNode(8)\n",
        "\n",
        "inorder_traversal(root)\n",
        "print(isBST2(root))"
      ],
      "metadata": {
        "colab": {
          "base_uri": "https://localhost:8080/"
        },
        "id": "a6DpPBd-_fDE",
        "outputId": "85f243e6-2893-4057-8bb3-bce6dc00ec07"
      },
      "execution_count": null,
      "outputs": [
        {
          "output_type": "stream",
          "name": "stdout",
          "text": [
            "3\n",
            "5\n",
            "4\n",
            "7\n",
            "8\n",
            "False\n",
            "3\n",
            "5\n",
            "6\n",
            "7\n",
            "8\n",
            "True\n"
          ]
        }
      ]
    },
    {
      "cell_type": "markdown",
      "source": [
        "## Level-order Traversal - BFS\n",
        "\n",
        "https://leetcode.com/problems/binary-tree-level-order-traversal/description/\n"
      ],
      "metadata": {
        "id": "vib4Y6t7B6YY"
      }
    },
    {
      "cell_type": "code",
      "source": [
        "from collections import deque\n",
        "\n",
        "def levelorder_traversal(root):\n",
        "    q = deque()\n",
        "\n",
        "    if root:\n",
        "        q.append(root)  # enqueue method\n",
        "\n",
        "    while q:\n",
        "        node = q.popleft() # dequeue method\n",
        "        print(node.value)\n",
        "        if node.left:\n",
        "            q.append(node.left)\n",
        "        if node.right:\n",
        "            q.append(node.right)\n",
        "\n",
        "# Testing the method\n",
        "\n",
        "root = TreeNode(5)\n",
        "root.left = TreeNode(3)\n",
        "root.right = TreeNode(7)\n",
        "root.right.left = TreeNode(6)\n",
        "root.right.right = TreeNode(8)\n",
        "\n",
        "levelorder_traversal(root)"
      ],
      "metadata": {
        "colab": {
          "base_uri": "https://localhost:8080/"
        },
        "id": "FRHbrvB8CCiK",
        "outputId": "eb09c7db-61d7-44d1-932b-de1157d85879"
      },
      "execution_count": null,
      "outputs": [
        {
          "output_type": "stream",
          "name": "stdout",
          "text": [
            "5\n",
            "3\n",
            "7\n",
            "4\n",
            "8\n"
          ]
        }
      ]
    },
    {
      "cell_type": "code",
      "source": [
        "# Non-recursive method for inorder traversal\n",
        "\n",
        "def inorder_traversal_stack(root):\n",
        "    stack = []      # pushing root onto the stack\n",
        "    current = root\n",
        "\n",
        "    while stack or current:\n",
        "        while current:\n",
        "            stack.append(current)\n",
        "            current = current.left\n",
        "\n",
        "        current = stack.pop()  # popping from stack\n",
        "        print(current.value)\n",
        "        current = current.right\n",
        "\n",
        "# Testing the method\n",
        "\n",
        "root = TreeNode(5)\n",
        "root.left = TreeNode(3)\n",
        "root.right = TreeNode(7)\n",
        "root.right.left = TreeNode(6)\n",
        "root.right.right = TreeNode(8)\n",
        "\n",
        "inorder_traversal_stack(root)\n"
      ],
      "metadata": {
        "colab": {
          "base_uri": "https://localhost:8080/"
        },
        "id": "sM6FX8uUExJK",
        "outputId": "ff689237-58eb-4172-e700-1522f97829e5"
      },
      "execution_count": null,
      "outputs": [
        {
          "output_type": "stream",
          "name": "stdout",
          "text": [
            "3\n",
            "5\n",
            "6\n",
            "7\n",
            "8\n"
          ]
        }
      ]
    },
    {
      "cell_type": "markdown",
      "source": [
        "# Graphs"
      ],
      "metadata": {
        "id": "zsdj39RbjRqv"
      }
    },
    {
      "cell_type": "markdown",
      "source": [
        "## BFS - Rotting Oranges\n",
        "\n",
        "https://leetcode.com/problems/rotting-oranges/description/"
      ],
      "metadata": {
        "id": "LOuuFsfccsDT"
      }
    },
    {
      "cell_type": "code",
      "source": [
        "from collections import deque\n",
        "\n",
        "def orangesRotting(grid):\n",
        "    rows = len(grid)\n",
        "    cols = len(grid[0])\n",
        "\n",
        "    fresh_count = 0\n",
        "\n",
        "\n",
        "    q = deque()\n",
        "\n",
        "    for r in range(rows):\n",
        "        for c in range(cols):\n",
        "            if grid[r][c] == 1:\n",
        "                fresh_count += 1\n",
        "            elif grid[r][c] == 2:   # if rotten, add to queue\n",
        "                q.append([r, c])\n",
        "\n",
        "    time = 0\n",
        "\n",
        "    while q and fresh_count > 0:\n",
        "        print('Time is', time)\n",
        "        for row in grid:\n",
        "            print (row)\n",
        "        time += 1\n",
        "        for i in range(len(q)):\n",
        "            r, c = q.popleft()\n",
        "            for x, y in [(1,0), (-1,0), (0,1), (0,-1)]:\n",
        "                row, col = r+x, c+y\n",
        "                if (row >=0 and row < rows) and (col >=0 and col < cols) and (grid[row][col] == 1):\n",
        "                    grid[row][col] = 2\n",
        "                    fresh_count -= 1\n",
        "                    q.append([row, col])\n",
        "\n",
        "    return time if fresh_count == 0 else -1\n",
        "\n",
        "# Testing the function\n",
        "\n",
        "grid = [[2,1,1],[1,1,0],[0,1,1]]\n",
        "orangesRotting(grid)"
      ],
      "metadata": {
        "colab": {
          "base_uri": "https://localhost:8080/"
        },
        "id": "mFvIGmHIY2GW",
        "outputId": "ef7b38a2-6a31-4e2d-934a-71a15fdf0e76"
      },
      "execution_count": null,
      "outputs": [
        {
          "output_type": "stream",
          "name": "stdout",
          "text": [
            "Time is 0\n",
            "[2, 1, 1]\n",
            "[1, 1, 0]\n",
            "[0, 1, 1]\n",
            "Time is 1\n",
            "[2, 2, 1]\n",
            "[2, 1, 0]\n",
            "[0, 1, 1]\n",
            "Time is 2\n",
            "[2, 2, 2]\n",
            "[2, 2, 0]\n",
            "[0, 1, 1]\n",
            "Time is 3\n",
            "[2, 2, 2]\n",
            "[2, 2, 0]\n",
            "[0, 2, 1]\n"
          ]
        },
        {
          "output_type": "execute_result",
          "data": {
            "text/plain": [
              "4"
            ]
          },
          "metadata": {},
          "execution_count": 69
        }
      ]
    },
    {
      "cell_type": "markdown",
      "source": [
        "## DFS - Course Schedule\n",
        "\n",
        "https://leetcode.com/problems/course-schedule/description/\n",
        "\n"
      ],
      "metadata": {
        "id": "a-8ES4QET7BH"
      }
    },
    {
      "cell_type": "code",
      "source": [
        "def canFinish(numCourses, prerequisites):\n",
        "\n",
        "    # Build the DAG graph\n",
        "\n",
        "    adjlist = {i:[] for i in range(numCourses)}\n",
        "    for item in prerequisites:\n",
        "        adjlist[item[0]].append(item[1])\n",
        "\n",
        "    print(adjlist)\n",
        "\n",
        "    def dfs(course, visited):\n",
        "        if visited[course] == -1:   # course visited again -> cycle\n",
        "            return False\n",
        "        elif visited[course] == 1:  # course already processed\n",
        "            return True\n",
        "        visited[course] = -1        # set course as processing\n",
        "        for prereq in adjlist[course]:\n",
        "            if not dfs(prereq, visited):\n",
        "                return False        # must be a cycle\n",
        "        visited[course] = 1         # set course as visited\n",
        "        return True\n",
        "\n",
        "    visited = [0]*numCourses\n",
        "\n",
        "    for course in range(numCourses):\n",
        "        if not dfs(course, visited):\n",
        "            return False            # there must be a cycle!\n",
        "    return True                     # return the reversed list\n",
        "\n",
        "numCourses = 4\n",
        "prerequisites = [[1,0],[2,0],[3,1],[3,2]]\n",
        "canFinish(numCourses, prerequisites)"
      ],
      "metadata": {
        "colab": {
          "base_uri": "https://localhost:8080/"
        },
        "id": "vOFkklBR20LY",
        "outputId": "ed66efd7-f5b0-4a38-ff39-6615c26c4d61"
      },
      "execution_count": null,
      "outputs": [
        {
          "output_type": "stream",
          "name": "stdout",
          "text": [
            "{0: [], 1: [0], 2: [0], 3: [1, 2]}\n"
          ]
        },
        {
          "output_type": "execute_result",
          "data": {
            "text/plain": [
              "True"
            ]
          },
          "metadata": {},
          "execution_count": 80
        }
      ]
    },
    {
      "cell_type": "markdown",
      "source": [
        "## Topological Sort - Course Schedule II\n",
        "\n",
        "https://leetcode.com/problems/course-schedule-ii/description/"
      ],
      "metadata": {
        "id": "5c7GWibsyRoD"
      }
    },
    {
      "cell_type": "code",
      "source": [
        "def findOrder(numCourses, prerequisites):\n",
        "\n",
        "    # Build the DAG graph\n",
        "\n",
        "    adjlist = {i:[] for i in range(numCourses)}\n",
        "    for item in prerequisites:\n",
        "        adjlist[item[0]].append(item[1])\n",
        "\n",
        "    print(adjlist)\n",
        "\n",
        "    output = []\n",
        "\n",
        "    def dfs(course, visited):\n",
        "        if visited[course] == -1:   # course visited again -> cycle\n",
        "            return False\n",
        "        elif visited[course] == 1:  # course already processed\n",
        "            return True\n",
        "        visited[course] = -1        # set course as processing\n",
        "        for prereq in adjlist[course]:\n",
        "            if not dfs(prereq, visited):\n",
        "                return False        # must be a cycle\n",
        "        output.append(course)       # add course to output\n",
        "        visited[course] = 1         # set course as visited\n",
        "        return True\n",
        "\n",
        "    visited = [0]*numCourses\n",
        "\n",
        "    for course in range(numCourses):\n",
        "        if not dfs(course, visited):\n",
        "            return []               # there must be a cycle!\n",
        "    return output                   # return the reversed list\n",
        "\n",
        "numCourses = 4\n",
        "prerequisites = [[1,0],[2,0],[3,1],[3,2]]\n",
        "findOrder(numCourses, prerequisites)"
      ],
      "metadata": {
        "colab": {
          "base_uri": "https://localhost:8080/"
        },
        "id": "nzuYz0vDyWdJ",
        "outputId": "f5fc57b2-6498-4d96-b5ff-23e112b05798"
      },
      "execution_count": null,
      "outputs": [
        {
          "output_type": "stream",
          "name": "stdout",
          "text": [
            "{0: [], 1: [0], 2: [0], 3: [1, 2]}\n"
          ]
        },
        {
          "output_type": "execute_result",
          "data": {
            "text/plain": [
              "[0, 1, 2, 3]"
            ]
          },
          "metadata": {},
          "execution_count": 79
        }
      ]
    },
    {
      "cell_type": "markdown",
      "source": [
        "## Maze Solving\n",
        "\n",
        "https://www.lintcode.com/problem/787/\n"
      ],
      "metadata": {
        "id": "sPyPfCf28ahN"
      }
    },
    {
      "cell_type": "markdown",
      "source": [
        "## Shortest Path - Network Delay Time\n",
        "\n",
        "https://leetcode.com/problems/network-delay-time/description/"
      ],
      "metadata": {
        "id": "1OauPzWx-qzX"
      }
    },
    {
      "cell_type": "code",
      "source": [
        "import heapq\n",
        "\n",
        "def networkDelayTime(times, n, k):\n",
        "\n",
        "    # Build the DAG graph\n",
        "\n",
        "    adjlist = {i:[] for i in range(1, n+1)}\n",
        "    for (u, v, w) in times:\n",
        "        adjlist[u].append([v, w])\n",
        "\n",
        "    print('Adjacency list is ', adjlist)\n",
        "\n",
        "    minheap = [(0, k)]       # initialize priority queue\n",
        "    visited = set()\n",
        "\n",
        "    distances = {}\n",
        "\n",
        "    while minheap:\n",
        "        print(minheap)\n",
        "        print(distances)\n",
        "        wpop, vpop = heapq.heappop(minheap)\n",
        "        if vpop in visited:\n",
        "            continue\n",
        "        visited.add(vpop)\n",
        "        if vpop not in distances:\n",
        "            distances[vpop] = wpop\n",
        "        for v, w in adjlist[vpop]:\n",
        "            if v not in visited:\n",
        "                heapq.heappush(minheap, (w + wpop, v))\n",
        "\n",
        "    if len(distances) == n:\n",
        "        return max(distances.values())\n",
        "    else:\n",
        "        return -1\n",
        "\n",
        "times = [[1,2,1],[2,1,3]]\n",
        "n = 2\n",
        "k = 2\n",
        "networkDelayTime(times, n, k)\n"
      ],
      "metadata": {
        "colab": {
          "base_uri": "https://localhost:8080/"
        },
        "id": "tzclaMmX_uON",
        "outputId": "fcb6468e-9528-46c3-e63d-798a88b1d5d3"
      },
      "execution_count": null,
      "outputs": [
        {
          "output_type": "stream",
          "name": "stdout",
          "text": [
            "Adjacency list is  {1: [[2, 1]], 2: [[1, 3]]}\n",
            "[(0, 2)]\n",
            "{}\n",
            "[(3, 1)]\n",
            "{2: 0}\n"
          ]
        },
        {
          "output_type": "execute_result",
          "data": {
            "text/plain": [
              "3"
            ]
          },
          "metadata": {},
          "execution_count": 95
        }
      ]
    },
    {
      "cell_type": "markdown",
      "source": [
        "## Minimum Spanning Tree\n",
        "\n",
        "https://leetcode.com/problems/min-cost-to-connect-all-points/description/\n",
        "\n",
        "Visualization: https://visualgo.net/en/mst\n"
      ],
      "metadata": {
        "id": "upVWUm9l4t93"
      }
    },
    {
      "cell_type": "code",
      "source": [
        "# Prim's algorithm for Minimum Spanning Tree\n",
        "\n",
        "def minCostConnectPoints(points):\n",
        "\n",
        "    # Build the graph\n",
        "\n",
        "    n = len(points)\n",
        "    adjlist = {i:[] for i in range(n)}\n",
        "    for i in range(n):\n",
        "        for j in range(i+1, n):\n",
        "            x1, y1 = points[i]\n",
        "            x2, y2 = points[j]\n",
        "            dist = abs(x1 - x2) + abs(y1 - y2)\n",
        "            adjlist[i].append([j, dist])\n",
        "            adjlist[j].append([i, dist])\n",
        "\n",
        "    print(adjlist)\n",
        "\n",
        "    print('Adjacency list is ', adjlist)\n",
        "\n",
        "    minheap = [(0, 0)]       # initialize priority queue\n",
        "    visited = set()\n",
        "\n",
        "    cost = 0\n",
        "\n",
        "    while minheap:\n",
        "        print(minheap)\n",
        "        print('Visited vertices so far:', visited)\n",
        "        wpop, vpop = heapq.heappop(minheap)\n",
        "        if vpop in visited:\n",
        "            continue\n",
        "        visited.add(vpop)\n",
        "        cost += wpop\n",
        "        for v, w in adjlist[vpop]:\n",
        "            if v not in visited:\n",
        "                heapq.heappush(minheap, (w, v))\n",
        "\n",
        "    return cost\n",
        "\n",
        "points = [[0,0],[2,2],[3,10],[5,2],[7,0]]\n",
        "minCostConnectPoints(points)"
      ],
      "metadata": {
        "colab": {
          "base_uri": "https://localhost:8080/"
        },
        "id": "C_1uPNQIJsT2",
        "outputId": "a1da38cb-a07b-44c0-b0c8-78e6d8a7ee89"
      },
      "execution_count": null,
      "outputs": [
        {
          "output_type": "stream",
          "name": "stdout",
          "text": [
            "{0: [[1, 4], [2, 13], [3, 7], [4, 7]], 1: [[0, 4], [2, 9], [3, 3], [4, 7]], 2: [[0, 13], [1, 9], [3, 10], [4, 14]], 3: [[0, 7], [1, 3], [2, 10], [4, 4]], 4: [[0, 7], [1, 7], [2, 14], [3, 4]]}\n",
            "Adjacency list is  {0: [[1, 4], [2, 13], [3, 7], [4, 7]], 1: [[0, 4], [2, 9], [3, 3], [4, 7]], 2: [[0, 13], [1, 9], [3, 10], [4, 14]], 3: [[0, 7], [1, 3], [2, 10], [4, 4]], 4: [[0, 7], [1, 7], [2, 14], [3, 4]]}\n",
            "[(0, 0)]\n",
            "Visited vertices so far: set()\n",
            "[(4, 1), (7, 4), (7, 3), (13, 2)]\n",
            "Visited vertices so far: {0}\n",
            "[(3, 3), (7, 3), (7, 4), (9, 2), (7, 4), (13, 2)]\n",
            "Visited vertices so far: {0, 1}\n",
            "[(4, 4), (7, 4), (7, 3), (9, 2), (13, 2), (10, 2), (7, 4)]\n",
            "Visited vertices so far: {0, 1, 3}\n",
            "[(7, 3), (7, 4), (7, 4), (9, 2), (13, 2), (10, 2), (14, 2)]\n",
            "Visited vertices so far: {0, 1, 3, 4}\n",
            "[(7, 4), (7, 4), (10, 2), (9, 2), (13, 2), (14, 2)]\n",
            "Visited vertices so far: {0, 1, 3, 4}\n",
            "[(7, 4), (9, 2), (10, 2), (14, 2), (13, 2)]\n",
            "Visited vertices so far: {0, 1, 3, 4}\n",
            "[(9, 2), (13, 2), (10, 2), (14, 2)]\n",
            "Visited vertices so far: {0, 1, 3, 4}\n",
            "[(10, 2), (13, 2), (14, 2)]\n",
            "Visited vertices so far: {0, 1, 2, 3, 4}\n",
            "[(13, 2), (14, 2)]\n",
            "Visited vertices so far: {0, 1, 2, 3, 4}\n",
            "[(14, 2)]\n",
            "Visited vertices so far: {0, 1, 2, 3, 4}\n"
          ]
        },
        {
          "output_type": "execute_result",
          "data": {
            "text/plain": [
              "20"
            ]
          },
          "metadata": {},
          "execution_count": 99
        }
      ]
    },
    {
      "cell_type": "markdown",
      "source": [
        "## Shortest Bridge\n",
        "\n",
        "https://leetcode.com/problems/shortest-bridge/description/"
      ],
      "metadata": {
        "id": "BpUHSV1dPhh6"
      }
    },
    {
      "cell_type": "code",
      "source": [
        "'''\n",
        "from collections import deque\n",
        "\n",
        "def shortestBridge(grid):\n",
        "    rows, cols = len(grid), len(grid[0])\n",
        "    r0, c0 = next((r, c) for r in range(rows) for c in range(cols) if grid[r][c])\n",
        "\n",
        "    print('Starting DFS at: ', (r0, c0))\n",
        "\n",
        "    # dfs\n",
        "    stack = [(0, 0)]\n",
        "    visited = set()\n",
        "    while stack:\n",
        "        r, c = stack.pop()\n",
        "        visited.add((r, c))\n",
        "        for x, y in [(1,0), (-1,0), (0,1), (0,-1)]:\n",
        "            row, col = r+x, c+y\n",
        "            if (row >=0 and row < rows) and (col >=0 and col < cols) and ( (row, col) not in visited):\n",
        "                stack.append([row, col])\n",
        "                visited.add((row, col))\n",
        "\n",
        "\n",
        "\n",
        "    # bfs\n",
        "    output = 0\n",
        "\n",
        "    q = deque(visited)\n",
        "    print(q, output)\n",
        "    while q:\n",
        "        subq = deque()\n",
        "        r, c = subq.popleft()\n",
        "        for x, y in [(1,0), (-1,0), (0,1), (0,-1)]:\n",
        "            row, col = r+x, c+y\n",
        "            if (row >=0 and row < rows) and (col >=0 and col < cols) and ( (row, col) not in visited):\n",
        "                subq.append((row, col))\n",
        "                visited.add((row, col))\n",
        "                if grid[row][col]:\n",
        "                    return output\n",
        "        output += 1\n",
        "\n",
        "grid = [[0,1,0],[0,0,0],[0,0,1]]\n",
        "\n",
        "print(shortestBridge(grid))\n",
        "'''"
      ],
      "metadata": {
        "colab": {
          "base_uri": "https://localhost:8080/",
          "height": 178
        },
        "id": "DjOXqalZPjRb",
        "outputId": "4ebe81fb-df6d-454e-eff2-fe466e04d22a"
      },
      "execution_count": null,
      "outputs": [
        {
          "output_type": "execute_result",
          "data": {
            "text/plain": [
              "\"\\nfrom collections import deque\\n\\ndef shortestBridge(grid):\\n    rows, cols = len(grid), len(grid[0])\\n    r0, c0 = next((r, c) for r in range(rows) for c in range(cols) if grid[r][c])\\n\\n    print('Starting DFS at: ', (r0, c0))\\n    \\n    # dfs \\n    stack = [(0, 0)]\\n    visited = set()\\n    while stack: \\n        r, c = stack.pop()\\n        visited.add((r, c)) \\n        for x, y in [(1,0), (-1,0), (0,1), (0,-1)]:\\n            row, col = r+x, c+y\\n            if (row >=0 and row < rows) and (col >=0 and col < cols) and ( (row, col) not in visited):\\n                stack.append([row, col])\\n                visited.add((row, col))\\n\\n    \\n    \\n    # bfs \\n    output = 0\\n\\n    q = deque(visited)\\n    print(q, output)\\n    while q:\\n        subq = deque()\\n        r, c = subq.popleft()\\n        for x, y in [(1,0), (-1,0), (0,1), (0,-1)]:\\n            row, col = r+x, c+y\\n            if (row >=0 and row < rows) and (col >=0 and col < cols) and ( (row, col) not in visited):\\n                subq.append((row, col))\\n                visited.add((row, col))\\n                if grid[row][col]:\\n                    return output\\n        output += 1\\n\\ngrid = [[0,1,0],[0,0,0],[0,0,1]]\\n\\nprint(shortestBridge(grid))\\n\""
            ],
            "application/vnd.google.colaboratory.intrinsic+json": {
              "type": "string"
            }
          },
          "metadata": {},
          "execution_count": 115
        }
      ]
    }
  ]
}