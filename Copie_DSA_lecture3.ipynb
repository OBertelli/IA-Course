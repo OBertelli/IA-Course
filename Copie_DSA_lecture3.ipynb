{
  "nbformat": 4,
  "nbformat_minor": 0,
  "metadata": {
    "colab": {
      "provenance": [],
      "toc_visible": true,
      "include_colab_link": true
    },
    "kernelspec": {
      "name": "python3",
      "display_name": "Python 3"
    },
    "language_info": {
      "name": "python"
    }
  },
  "cells": [
    {
      "cell_type": "markdown",
      "metadata": {
        "id": "view-in-github",
        "colab_type": "text"
      },
      "source": [
        "<a href=\"https://colab.research.google.com/github/OBertelli/IA-Course/blob/main/Copie_DSA_lecture3.ipynb\" target=\"_parent\"><img src=\"https://colab.research.google.com/assets/colab-badge.svg\" alt=\"Open In Colab\"/></a>"
      ]
    },
    {
      "cell_type": "markdown",
      "source": [
        "# Big-O Notation\n",
        "\n"
      ],
      "metadata": {
        "id": "wkt5tioyuAJy"
      }
    },
    {
      "cell_type": "markdown",
      "source": [
        "## Linear time"
      ],
      "metadata": {
        "id": "9x_lHttFPel5"
      }
    },
    {
      "cell_type": "code",
      "execution_count": null,
      "metadata": {
        "id": "Xl_UoSO7t8YV"
      },
      "outputs": [],
      "source": [
        "# simple hi function\n",
        "\n",
        "def count(n):   # input size\n",
        "    count = 0\n",
        "    for i in range(n):\n",
        "        count = count + 1\n",
        "    return count\n",
        "\n",
        "# time needed to buy tickets\n",
        "\n",
        "class Queue:\n",
        "    def __init__(self):\n",
        "        self.items = []\n",
        "\n",
        "    def __str__(self):\n",
        "        return '>>' + str(self.items) + '>>'\n",
        "\n",
        "    def is_empty(self):\n",
        "        return self.items == []\n",
        "\n",
        "    def enqueue(self, item):\n",
        "        self.items.insert(0,item)\n",
        "\n",
        "    def dequeue(self):\n",
        "        return self.items.pop()\n",
        "\n",
        "    def size(self):\n",
        "        return len(self.items)\n",
        "\n",
        "\n",
        "def tn1(tickets, k):\n",
        "    line = Queue()\n",
        "    for id, num in enumerate(tickets):\n",
        "        line.enqueue([id, num])\n",
        "\n",
        "    time = 0\n",
        "    while not line.is_empty():\n",
        "        #print(line)\n",
        "        time = time + 1\n",
        "        id, num = line.dequeue()\n",
        "        if (id == k) and (num == 1):\n",
        "            return time\n",
        "        if num > 1:\n",
        "            line.enqueue([id, num-1])\n",
        "\n",
        "\n",
        "# valid paranthesis\n",
        "\n",
        "class Stack:\n",
        "    def __init__(self):\n",
        "        self.items = []\n",
        "\n",
        "    def __str__(self):\n",
        "        return '||' + str(self.items) + '>>'\n",
        "\n",
        "    def is_empty(self):\n",
        "        return self.items == []\n",
        "\n",
        "    def push(self, item):\n",
        "        self.items.append(item)\n",
        "\n",
        "    def pop(self):\n",
        "        return self.items.pop()\n",
        "\n",
        "    def peek(self):\n",
        "        return self.items[-1]\n",
        "\n",
        "    def size(self):\n",
        "        return len(self.items)\n",
        "\n",
        "def isvalid(s):\n",
        "    bracketmap = {')':'(', ']':'[', '}':'{'}\n",
        "    brackets = Stack()\n",
        "\n",
        "    for c in s:\n",
        "        if c in bracketmap:     # if c is a closing bracket\n",
        "            if brackets.is_empty():\n",
        "                return False\n",
        "            elif brackets.peek() == bracketmap[c]:\n",
        "                brackets.pop()\n",
        "            else:\n",
        "                brackets.push(c)\n",
        "        else:                   # if c is an opening bracket\n",
        "            brackets.push(c)\n",
        "\n",
        "    if brackets.is_empty():\n",
        "        return True\n",
        "    else:\n",
        "        return False\n",
        "\n",
        "# two sum\n",
        "\n",
        "def twoSum2(nums, target):\n",
        "    h = {}\n",
        "    l = len(nums)\n",
        "    for i in range(l):\n",
        "        diff = target - nums[i]\n",
        "        if diff in h:\n",
        "            return [h[diff], i]\n",
        "        h[nums[i]] = i\n",
        "\n"
      ]
    },
    {
      "cell_type": "code",
      "source": [
        "import matplotlib.pyplot as plt\n",
        "import time\n",
        "\n",
        "nmax = 1000\n",
        "\n",
        "times_count = []\n",
        "times_tickets = []\n",
        "times_paranthesis = []\n",
        "times_twosum = []\n",
        "\n",
        "for n in range(nmax):\n",
        "\n",
        "    # generate different inputs for each function\n",
        "\n",
        "    tickets = [2]*n\n",
        "    k = n - 1\n",
        "\n",
        "    s = '('*n + ')'*n\n",
        "\n",
        "    nums = [i for i in range(n)]\n",
        "    target = 2*n\n",
        "\n",
        "\n",
        "    tic = time.time()\n",
        "    count(n)\n",
        "    toc = time.time()\n",
        "    times_count.append(toc-tic)\n",
        "\n",
        "    tic = time.time()\n",
        "    tn1(tickets, k)\n",
        "    toc = time.time()\n",
        "    times_tickets.append(toc-tic)\n",
        "\n",
        "    tic = time.time()\n",
        "    isvalid(s)\n",
        "    toc = time.time()\n",
        "    times_paranthesis.append(toc-tic)\n",
        "\n",
        "    tic = time.time()\n",
        "    twoSum2(nums, target)\n",
        "    toc = time.time()\n",
        "    times_twosum.append(toc-tic)\n",
        "\n",
        "plt.figure()\n",
        "plt.plot(times_count)\n",
        "plt.plot(times_tickets)\n",
        "plt.plot(times_paranthesis)\n",
        "plt.plot(times_twosum)\n",
        "\n",
        "plt.legend(['count', 'tickets', 'parantheses', 'twosum'])\n",
        "plt.xlabel('Input size n')\n",
        "plt.ylabel('Runtime (in seconds)')\n",
        "plt.title('Running time comparision')\n"
      ],
      "metadata": {
        "colab": {
          "base_uri": "https://localhost:8080/",
          "height": 490
        },
        "id": "EsbwtQ2kwXsn",
        "outputId": "8d862a5c-6b8b-48a5-b707-54f4b76b0c49"
      },
      "execution_count": null,
      "outputs": [
        {
          "output_type": "execute_result",
          "data": {
            "text/plain": [
              "Text(0.5, 1.0, 'Running time comparision')"
            ]
          },
          "metadata": {},
          "execution_count": 7
        },
        {
          "output_type": "display_data",
          "data": {
            "text/plain": [
              "<Figure size 640x480 with 1 Axes>"
            ],
            "image/png": "[encoded data removed]"
          },
          "metadata": {}
        }
      ]
    },
    {
      "cell_type": "markdown",
      "source": [
        "## Quadratic time"
      ],
      "metadata": {
        "id": "SspQCBVwF-wj"
      }
    },
    {
      "cell_type": "code",
      "source": [
        "# two sum brute-force solution\n",
        "\n",
        "def twoSum1(nums, target):\n",
        "    l = len(nums)\n",
        "    for i in range(l-1):\n",
        "        for j in range(i+1, l):\n",
        "            #print('Here are the indices I am checking right now..')\n",
        "            #print(i,j)\n",
        "            if nums[i] + nums[j] == target:\n",
        "                return [i, j]\n",
        "\n",
        "\n",
        "\n",
        "nmax = 1000\n",
        "times_twosum1 = []\n",
        "times_twosum = []\n",
        "\n",
        "for n in range(nmax):\n",
        "    nums = [i for i in range(n)]\n",
        "    target = 2*n\n",
        "\n",
        "    tic = time.time()\n",
        "    twoSum1(nums, target)\n",
        "    toc = time.time()\n",
        "    times_twosum1.append(toc-tic)\n",
        "\n",
        "    tic = time.time()\n",
        "    twoSum2(nums, target)\n",
        "    toc = time.time()\n",
        "    times_twosum.append(toc-tic)\n",
        "\n",
        "plt.figure()\n",
        "plt.plot(times_twosum1)\n",
        "plt.plot(times_twosum)\n",
        "\n",
        "plt.legend(['brute-force', 'hash-map'])\n",
        "plt.xlabel('Input size n')\n",
        "plt.ylabel('Runtime (in seconds)')\n",
        "plt.title('Running time comparision')"
      ],
      "metadata": {
        "colab": {
          "base_uri": "https://localhost:8080/",
          "height": 490
        },
        "id": "1Fi9GulEGfF_",
        "outputId": "9b3e2bc3-81ed-4bde-a32f-94995d9aa1ae"
      },
      "execution_count": null,
      "outputs": [
        {
          "output_type": "execute_result",
          "data": {
            "text/plain": [
              "Text(0.5, 1.0, 'Running time comparision')"
            ]
          },
          "metadata": {},
          "execution_count": 11
        },
        {
          "output_type": "display_data",
          "data": {
            "text/plain": [
              "<Figure size 640x480 with 1 Axes>"
            ],
            "image/png": "[encoded data removed]"
          },
          "metadata": {}
        }
      ]
    },
    {
      "cell_type": "markdown",
      "source": [
        "## Logarithmic time"
      ],
      "metadata": {
        "id": "dvbM0NbVPi7h"
      }
    },
    {
      "cell_type": "markdown",
      "source": [
        "### Binary search\n",
        "\n",
        "Leetcode binary search:\n",
        "\n",
        "https://leetcode.com/problems/binary-search/description/\n"
      ],
      "metadata": {
        "id": "Ev8HjtMhW7Re"
      }
    },
    {
      "cell_type": "code",
      "source": [
        "# brute-force solution\n",
        "\n",
        "def search(nums, target):\n",
        "    for i in range(len(nums)):\n",
        "        if nums[i] == target:\n",
        "            return i\n",
        "    return -1\n",
        "\n",
        "nums = [-1,0,3,5,9,12]\n",
        "target = 9\n",
        "print(search(nums, target))"
      ],
      "metadata": {
        "colab": {
          "base_uri": "https://localhost:8080/"
        },
        "id": "mqna01TCXFoN",
        "outputId": "1e7b09dd-0ffc-4c82-fb56-10031d727709"
      },
      "execution_count": null,
      "outputs": [
        {
          "output_type": "stream",
          "name": "stdout",
          "text": [
            "4\n"
          ]
        }
      ]
    },
    {
      "cell_type": "code",
      "source": [
        "# binary search\n",
        "\n",
        "def bsearch(nums, target):\n",
        "    start = 0\n",
        "    end = len(nums) - 1\n",
        "\n",
        "    while start <= end:\n",
        "        mid = (start + end) // 2    # integer division\n",
        "        if nums[mid] == target:\n",
        "            return mid\n",
        "        elif nums[mid] < target:\n",
        "            start = mid + 1\n",
        "        else:\n",
        "            end = mid - 1\n",
        "    return -1\n",
        "\n",
        "nums = [-1,0,3,5,9,12]\n",
        "target = 9\n",
        "print(search(nums, target))"
      ],
      "metadata": {
        "id": "qpiDBZ06ckBF",
        "outputId": "15b54b70-46e1-4ce7-9665-ef72920290a8",
        "colab": {
          "base_uri": "https://localhost:8080/"
        }
      },
      "execution_count": null,
      "outputs": [
        {
          "output_type": "stream",
          "name": "stdout",
          "text": [
            "4\n"
          ]
        }
      ]
    },
    {
      "cell_type": "code",
      "source": [
        "nmax = 1000\n",
        "\n",
        "times_search = []\n",
        "times_bsearch = []\n",
        "\n",
        "for n in range(nmax):\n",
        "    nums = [i for i in range(5*n)]\n",
        "    target = n-4\n",
        "\n",
        "    tic = time.time()\n",
        "    search(nums, target)\n",
        "    toc = time.time()\n",
        "    times_search.append(toc-tic)\n",
        "\n",
        "    tic = time.time()\n",
        "    bsearch(nums, target)\n",
        "    toc = time.time()\n",
        "    times_bsearch.append(toc-tic)\n",
        "\n",
        "plt.figure()\n",
        "plt.plot(times_search)\n",
        "plt.plot(times_bsearch)\n",
        "\n",
        "plt.legend(['brute-force', 'binary search'])\n",
        "plt.xlabel('Input size n')\n",
        "plt.ylabel('Runtime (in seconds)')\n",
        "plt.title('Running time comparision')\n"
      ],
      "metadata": {
        "colab": {
          "base_uri": "https://localhost:8080/",
          "height": 490
        },
        "id": "6UAq_nCHdixQ",
        "outputId": "65415534-034e-425b-c155-0fdcc98dd87d"
      },
      "execution_count": null,
      "outputs": [
        {
          "output_type": "execute_result",
          "data": {
            "text/plain": [
              "Text(0.5, 1.0, 'Running time comparision')"
            ]
          },
          "metadata": {},
          "execution_count": 14
        },
        {
          "output_type": "display_data",
          "data": {
            "text/plain": [
              "<Figure size 640x480 with 1 Axes>"
            ],
            "image/png": "[encoded data removed]"
          },
          "metadata": {}
        }
      ]
    },
    {
      "cell_type": "markdown",
      "source": [
        "### Capacity to ship packages\n",
        "\n",
        "https://leetcode.com/problems/capacity-to-ship-packages-within-d-days/description/"
      ],
      "metadata": {
        "id": "mo2EPMUdoNwB"
      }
    },
    {
      "cell_type": "code",
      "source": [
        "def shipWithinDays(weights, days):\n",
        "\n",
        "    def feasible(capacity):\n",
        "        cur_days = 1\n",
        "        cur_weight = 0\n",
        "        for w in weights:\n",
        "            cur_weight = cur_weight + w\n",
        "            if cur_weight > capacity:\n",
        "                cur_weight = w\n",
        "                cur_days += 1\n",
        "                if cur_days > days:\n",
        "                    return False\n",
        "        return True\n",
        "\n",
        "\n",
        "    start, end = max(weights), sum(weights)\n",
        "    out = end\n",
        "\n",
        "    while start <= end:\n",
        "        mid = (start + end) // 2    # integer division\n",
        "        if feasible(mid):\n",
        "            end = mid - 1\n",
        "            out = min(mid, out)\n",
        "        else:\n",
        "            start = mid + 1\n",
        "    return out\n",
        "\n",
        "weights = [1,2,3,4,5,6,7,8,9,10]\n",
        "days = 5\n",
        "print(shipWithinDays(weights, days))"
      ],
      "metadata": {
        "colab": {
          "base_uri": "https://localhost:8080/"
        },
        "id": "DBrVcj5_oNQv",
        "outputId": "bfc3c07d-81cb-4d8c-db96-0d5fd9d9a433"
      },
      "execution_count": null,
      "outputs": [
        {
          "output_type": "stream",
          "name": "stdout",
          "text": [
            "15\n"
          ]
        }
      ]
    },
    {
      "cell_type": "markdown",
      "source": [
        "## Quasilinear time"
      ],
      "metadata": {
        "id": "mfs4QwzEtP-_"
      }
    },
    {
      "cell_type": "markdown",
      "source": [
        "### Merge sort"
      ],
      "metadata": {
        "id": "x42_FfAbtS0x"
      }
    },
    {
      "cell_type": "code",
      "source": [
        "# merge sort\n",
        "\n",
        "def merge_sort(nums):\n",
        "    l = len(nums)\n",
        "    if l <= 1:\n",
        "        return nums\n",
        "\n",
        "    # Divide the array into two halves\n",
        "    mid = len(nums) // 2\n",
        "    left_half = nums[:mid]\n",
        "    right_half = nums[mid:]\n",
        "\n",
        "    # Recursively sort the two halves\n",
        "    left_half = merge_sort(left_half)\n",
        "    right_half = merge_sort(right_half)\n",
        "\n",
        "    # Merge the sorted halves\n",
        "    return merge(left_half, right_half)\n",
        "\n",
        "def merge(left, right):\n",
        "    merged = []\n",
        "    left_index = 0\n",
        "    right_index = 0\n",
        "\n",
        "    # Merge the two sorted lists\n",
        "    while left_index < len(left) and right_index < len(right):\n",
        "        if left[left_index] < right[right_index]:\n",
        "            merged.append(left[left_index])\n",
        "            left_index += 1\n",
        "        else:\n",
        "            merged.append(right[right_index])\n",
        "            right_index += 1\n",
        "\n",
        "    # Add remaining elements from left and right subarrays\n",
        "    merged.extend(left[left_index:])\n",
        "    merged.extend(right[right_index:])\n",
        "\n",
        "    return merged\n",
        "\n",
        "# Example usage:\n",
        "nums = [12, 11, 13, 5, 6, 7]\n",
        "print(merge_sort(nums))\n",
        "\n",
        "print(merge([1, 3, 5], [1, 4, 6, 10]))\n"
      ],
      "metadata": {
        "colab": {
          "base_uri": "https://localhost:8080/"
        },
        "id": "rpReOr0htWEO",
        "outputId": "8cedcc09-26da-40d2-a918-d83eff5d02b8"
      },
      "execution_count": null,
      "outputs": [
        {
          "output_type": "stream",
          "name": "stdout",
          "text": [
            "[5, 6, 7, 11, 12, 13]\n",
            "[1, 1, 3, 4, 5, 6, 10]\n"
          ]
        }
      ]
    },
    {
      "cell_type": "markdown",
      "source": [
        "## Exponential time"
      ],
      "metadata": {
        "id": "ZoMAyZOPc7ML"
      }
    },
    {
      "cell_type": "markdown",
      "source": [
        "### Fibonacci number\n",
        "\n",
        "https://leetcode.com/problems/fibonacci-number/description/"
      ],
      "metadata": {
        "id": "ncGSiPQdc94h"
      }
    },
    {
      "cell_type": "code",
      "source": [
        "# exponential time solution to the nth fibonacci number problem\n",
        "\n",
        "def fib1(n):\n",
        "    print('Entering fib1 with n =', n)\n",
        "    if n <= 1:\n",
        "        #print('Reached base case with n =', n)\n",
        "        return n\n",
        "    else:\n",
        "        print('Adding the results for', n-1, 'and', n-2)\n",
        "        return fib1(n - 1) + fib1(n - 2)\n",
        "\n",
        "print(fib1(10))"
      ],
      "metadata": {
        "colab": {
          "base_uri": "https://localhost:8080/"
        },
        "id": "yyS5o_LGdqiW",
        "outputId": "865a689c-1d5d-48fc-918c-a41ce07f1a1b"
      },
      "execution_count": null,
      "outputs": [
        {
          "output_type": "stream",
          "name": "stdout",
          "text": [
            "Entering fib1 with n = 10\n",
            "Adding the results for 9 and 8\n",
            "Entering fib1 with n = 9\n",
            "Adding the results for 8 and 7\n",
            "Entering fib1 with n = 8\n",
            "Adding the results for 7 and 6\n",
            "Entering fib1 with n = 7\n",
            "Adding the results for 6 and 5\n",
            "Entering fib1 with n = 6\n",
            "Adding the results for 5 and 4\n",
            "Entering fib1 with n = 5\n",
            "Adding the results for 4 and 3\n",
            "Entering fib1 with n = 4\n",
            "Adding the results for 3 and 2\n",
            "Entering fib1 with n = 3\n",
            "Adding the results for 2 and 1\n",
            "Entering fib1 with n = 2\n",
            "Adding the results for 1 and 0\n",
            "Entering fib1 with n = 1\n",
            "Entering fib1 with n = 0\n",
            "Entering fib1 with n = 1\n",
            "Entering fib1 with n = 2\n",
            "Adding the results for 1 and 0\n",
            "Entering fib1 with n = 1\n",
            "Entering fib1 with n = 0\n",
            "Entering fib1 with n = 3\n",
            "Adding the results for 2 and 1\n",
            "Entering fib1 with n = 2\n",
            "Adding the results for 1 and 0\n",
            "Entering fib1 with n = 1\n",
            "Entering fib1 with n = 0\n",
            "Entering fib1 with n = 1\n",
            "Entering fib1 with n = 4\n",
            "Adding the results for 3 and 2\n",
            "Entering fib1 with n = 3\n",
            "Adding the results for 2 and 1\n",
            "Entering fib1 with n = 2\n",
            "Adding the results for 1 and 0\n",
            "Entering fib1 with n = 1\n",
            "Entering fib1 with n = 0\n",
            "Entering fib1 with n = 1\n",
            "Entering fib1 with n = 2\n",
            "Adding the results for 1 and 0\n",
            "Entering fib1 with n = 1\n",
            "Entering fib1 with n = 0\n",
            "Entering fib1 with n = 5\n",
            "Adding the results for 4 and 3\n",
            "Entering fib1 with n = 4\n",
            "Adding the results for 3 and 2\n",
            "Entering fib1 with n = 3\n",
            "Adding the results for 2 and 1\n",
            "Entering fib1 with n = 2\n",
            "Adding the results for 1 and 0\n",
            "Entering fib1 with n = 1\n",
            "Entering fib1 with n = 0\n",
            "Entering fib1 with n = 1\n",
            "Entering fib1 with n = 2\n",
            "Adding the results for 1 and 0\n",
            "Entering fib1 with n = 1\n",
            "Entering fib1 with n = 0\n",
            "Entering fib1 with n = 3\n",
            "Adding the results for 2 and 1\n",
            "Entering fib1 with n = 2\n",
            "Adding the results for 1 and 0\n",
            "Entering fib1 with n = 1\n",
            "Entering fib1 with n = 0\n",
            "Entering fib1 with n = 1\n",
            "Entering fib1 with n = 6\n",
            "Adding the results for 5 and 4\n",
            "Entering fib1 with n = 5\n",
            "Adding the results for 4 and 3\n",
            "Entering fib1 with n = 4\n",
            "Adding the results for 3 and 2\n",
            "Entering fib1 with n = 3\n",
            "Adding the results for 2 and 1\n",
            "Entering fib1 with n = 2\n",
            "Adding the results for 1 and 0\n",
            "Entering fib1 with n = 1\n",
            "Entering fib1 with n = 0\n",
            "Entering fib1 with n = 1\n",
            "Entering fib1 with n = 2\n",
            "Adding the results for 1 and 0\n",
            "Entering fib1 with n = 1\n",
            "Entering fib1 with n = 0\n",
            "Entering fib1 with n = 3\n",
            "Adding the results for 2 and 1\n",
            "Entering fib1 with n = 2\n",
            "Adding the results for 1 and 0\n",
            "Entering fib1 with n = 1\n",
            "Entering fib1 with n = 0\n",
            "Entering fib1 with n = 1\n",
            "Entering fib1 with n = 4\n",
            "Adding the results for 3 and 2\n",
            "Entering fib1 with n = 3\n",
            "Adding the results for 2 and 1\n",
            "Entering fib1 with n = 2\n",
            "Adding the results for 1 and 0\n",
            "Entering fib1 with n = 1\n",
            "Entering fib1 with n = 0\n",
            "Entering fib1 with n = 1\n",
            "Entering fib1 with n = 2\n",
            "Adding the results for 1 and 0\n",
            "Entering fib1 with n = 1\n",
            "Entering fib1 with n = 0\n",
            "Entering fib1 with n = 7\n",
            "Adding the results for 6 and 5\n",
            "Entering fib1 with n = 6\n",
            "Adding the results for 5 and 4\n",
            "Entering fib1 with n = 5\n",
            "Adding the results for 4 and 3\n",
            "Entering fib1 with n = 4\n",
            "Adding the results for 3 and 2\n",
            "Entering fib1 with n = 3\n",
            "Adding the results for 2 and 1\n",
            "Entering fib1 with n = 2\n",
            "Adding the results for 1 and 0\n",
            "Entering fib1 with n = 1\n",
            "Entering fib1 with n = 0\n",
            "Entering fib1 with n = 1\n",
            "Entering fib1 with n = 2\n",
            "Adding the results for 1 and 0\n",
            "Entering fib1 with n = 1\n",
            "Entering fib1 with n = 0\n",
            "Entering fib1 with n = 3\n",
            "Adding the results for 2 and 1\n",
            "Entering fib1 with n = 2\n",
            "Adding the results for 1 and 0\n",
            "Entering fib1 with n = 1\n",
            "Entering fib1 with n = 0\n",
            "Entering fib1 with n = 1\n",
            "Entering fib1 with n = 4\n",
            "Adding the results for 3 and 2\n",
            "Entering fib1 with n = 3\n",
            "Adding the results for 2 and 1\n",
            "Entering fib1 with n = 2\n",
            "Adding the results for 1 and 0\n",
            "Entering fib1 with n = 1\n",
            "Entering fib1 with n = 0\n",
            "Entering fib1 with n = 1\n",
            "Entering fib1 with n = 2\n",
            "Adding the results for 1 and 0\n",
            "Entering fib1 with n = 1\n",
            "Entering fib1 with n = 0\n",
            "Entering fib1 with n = 5\n",
            "Adding the results for 4 and 3\n",
            "Entering fib1 with n = 4\n",
            "Adding the results for 3 and 2\n",
            "Entering fib1 with n = 3\n",
            "Adding the results for 2 and 1\n",
            "Entering fib1 with n = 2\n",
            "Adding the results for 1 and 0\n",
            "Entering fib1 with n = 1\n",
            "Entering fib1 with n = 0\n",
            "Entering fib1 with n = 1\n",
            "Entering fib1 with n = 2\n",
            "Adding the results for 1 and 0\n",
            "Entering fib1 with n = 1\n",
            "Entering fib1 with n = 0\n",
            "Entering fib1 with n = 3\n",
            "Adding the results for 2 and 1\n",
            "Entering fib1 with n = 2\n",
            "Adding the results for 1 and 0\n",
            "Entering fib1 with n = 1\n",
            "Entering fib1 with n = 0\n",
            "Entering fib1 with n = 1\n",
            "Entering fib1 with n = 8\n",
            "Adding the results for 7 and 6\n",
            "Entering fib1 with n = 7\n",
            "Adding the results for 6 and 5\n",
            "Entering fib1 with n = 6\n",
            "Adding the results for 5 and 4\n",
            "Entering fib1 with n = 5\n",
            "Adding the results for 4 and 3\n",
            "Entering fib1 with n = 4\n",
            "Adding the results for 3 and 2\n",
            "Entering fib1 with n = 3\n",
            "Adding the results for 2 and 1\n",
            "Entering fib1 with n = 2\n",
            "Adding the results for 1 and 0\n",
            "Entering fib1 with n = 1\n",
            "Entering fib1 with n = 0\n",
            "Entering fib1 with n = 1\n",
            "Entering fib1 with n = 2\n",
            "Adding the results for 1 and 0\n",
            "Entering fib1 with n = 1\n",
            "Entering fib1 with n = 0\n",
            "Entering fib1 with n = 3\n",
            "Adding the results for 2 and 1\n",
            "Entering fib1 with n = 2\n",
            "Adding the results for 1 and 0\n",
            "Entering fib1 with n = 1\n",
            "Entering fib1 with n = 0\n",
            "Entering fib1 with n = 1\n",
            "Entering fib1 with n = 4\n",
            "Adding the results for 3 and 2\n",
            "Entering fib1 with n = 3\n",
            "Adding the results for 2 and 1\n",
            "Entering fib1 with n = 2\n",
            "Adding the results for 1 and 0\n",
            "Entering fib1 with n = 1\n",
            "Entering fib1 with n = 0\n",
            "Entering fib1 with n = 1\n",
            "Entering fib1 with n = 2\n",
            "Adding the results for 1 and 0\n",
            "Entering fib1 with n = 1\n",
            "Entering fib1 with n = 0\n",
            "Entering fib1 with n = 5\n",
            "Adding the results for 4 and 3\n",
            "Entering fib1 with n = 4\n",
            "Adding the results for 3 and 2\n",
            "Entering fib1 with n = 3\n",
            "Adding the results for 2 and 1\n",
            "Entering fib1 with n = 2\n",
            "Adding the results for 1 and 0\n",
            "Entering fib1 with n = 1\n",
            "Entering fib1 with n = 0\n",
            "Entering fib1 with n = 1\n",
            "Entering fib1 with n = 2\n",
            "Adding the results for 1 and 0\n",
            "Entering fib1 with n = 1\n",
            "Entering fib1 with n = 0\n",
            "Entering fib1 with n = 3\n",
            "Adding the results for 2 and 1\n",
            "Entering fib1 with n = 2\n",
            "Adding the results for 1 and 0\n",
            "Entering fib1 with n = 1\n",
            "Entering fib1 with n = 0\n",
            "Entering fib1 with n = 1\n",
            "Entering fib1 with n = 6\n",
            "Adding the results for 5 and 4\n",
            "Entering fib1 with n = 5\n",
            "Adding the results for 4 and 3\n",
            "Entering fib1 with n = 4\n",
            "Adding the results for 3 and 2\n",
            "Entering fib1 with n = 3\n",
            "Adding the results for 2 and 1\n",
            "Entering fib1 with n = 2\n",
            "Adding the results for 1 and 0\n",
            "Entering fib1 with n = 1\n",
            "Entering fib1 with n = 0\n",
            "Entering fib1 with n = 1\n",
            "Entering fib1 with n = 2\n",
            "Adding the results for 1 and 0\n",
            "Entering fib1 with n = 1\n",
            "Entering fib1 with n = 0\n",
            "Entering fib1 with n = 3\n",
            "Adding the results for 2 and 1\n",
            "Entering fib1 with n = 2\n",
            "Adding the results for 1 and 0\n",
            "Entering fib1 with n = 1\n",
            "Entering fib1 with n = 0\n",
            "Entering fib1 with n = 1\n",
            "Entering fib1 with n = 4\n",
            "Adding the results for 3 and 2\n",
            "Entering fib1 with n = 3\n",
            "Adding the results for 2 and 1\n",
            "Entering fib1 with n = 2\n",
            "Adding the results for 1 and 0\n",
            "Entering fib1 with n = 1\n",
            "Entering fib1 with n = 0\n",
            "Entering fib1 with n = 1\n",
            "Entering fib1 with n = 2\n",
            "Adding the results for 1 and 0\n",
            "Entering fib1 with n = 1\n",
            "Entering fib1 with n = 0\n",
            "55\n"
          ]
        }
      ]
    },
    {
      "cell_type": "code",
      "source": [
        "# linear time solution using memoization\n",
        "\n",
        "\n",
        "fmap = {}\n",
        "fmap[0] = 0\n",
        "fmap[1] = 1\n",
        "\n",
        "def fib2(n):\n",
        "    print('Entering fib2 with n =', n)\n",
        "\n",
        "    if n not in fmap:\n",
        "        print('Adding the results for', n-1, 'and', n-2)\n",
        "        fmap[n] = fib2(n-1) + fib2(n-2)\n",
        "\n",
        "    return fmap[n]\n",
        "\n",
        "print(fib2(10))"
      ],
      "metadata": {
        "colab": {
          "base_uri": "https://localhost:8080/"
        },
        "id": "rPC6NT_L1Pcz",
        "outputId": "215a248c-c762-4ce5-fece-cae1e242f9fa"
      },
      "execution_count": null,
      "outputs": [
        {
          "output_type": "stream",
          "name": "stdout",
          "text": [
            "Entering fib2 with n = 10\n",
            "Adding the results for 9 and 8\n",
            "Entering fib2 with n = 9\n",
            "Adding the results for 8 and 7\n",
            "Entering fib2 with n = 8\n",
            "Adding the results for 7 and 6\n",
            "Entering fib2 with n = 7\n",
            "Adding the results for 6 and 5\n",
            "Entering fib2 with n = 6\n",
            "Adding the results for 5 and 4\n",
            "Entering fib2 with n = 5\n",
            "Adding the results for 4 and 3\n",
            "Entering fib2 with n = 4\n",
            "Adding the results for 3 and 2\n",
            "Entering fib2 with n = 3\n",
            "Adding the results for 2 and 1\n",
            "Entering fib2 with n = 2\n",
            "Adding the results for 1 and 0\n",
            "Entering fib2 with n = 1\n",
            "Entering fib2 with n = 0\n",
            "Entering fib2 with n = 1\n",
            "Entering fib2 with n = 2\n",
            "Entering fib2 with n = 3\n",
            "Entering fib2 with n = 4\n",
            "Entering fib2 with n = 5\n",
            "Entering fib2 with n = 6\n",
            "Entering fib2 with n = 7\n",
            "Entering fib2 with n = 8\n",
            "55\n"
          ]
        }
      ]
    },
    {
      "cell_type": "code",
      "source": [
        "# linear time solution using bottom-up approach\n",
        "\n",
        "def fib3(n):\n",
        "    print('Entering fib2 with n =', n)\n",
        "    if n <= 1:\n",
        "        #print('Reached base case with n =', n)\n",
        "        return n\n",
        "    else:\n",
        "        fmap = {}\n",
        "        fmap[0] = 0\n",
        "        fmap[1] = 1\n",
        "        for i in range(2, n+1):\n",
        "            print('Adding the results for', i-1, 'and', i-2)\n",
        "            fmap[i] = fmap[i-1] + fmap[i-2]\n",
        "        return fmap[n]\n",
        "\n",
        "print(fib3(10))"
      ],
      "metadata": {
        "colab": {
          "base_uri": "https://localhost:8080/"
        },
        "id": "y1T9Nkuz6azz",
        "outputId": "8a0b7563-5ddf-453e-f637-7c7ceca4895d"
      },
      "execution_count": null,
      "outputs": [
        {
          "output_type": "stream",
          "name": "stdout",
          "text": [
            "Entering fib2 with n = 10\n",
            "Adding the results for 1 and 0\n",
            "Adding the results for 2 and 1\n",
            "Adding the results for 3 and 2\n",
            "Adding the results for 4 and 3\n",
            "Adding the results for 5 and 4\n",
            "Adding the results for 6 and 5\n",
            "Adding the results for 7 and 6\n",
            "Adding the results for 8 and 7\n",
            "Adding the results for 9 and 8\n",
            "55\n"
          ]
        }
      ]
    },
    {
      "cell_type": "markdown",
      "source": [
        "### Climbing stairs\n",
        "\n",
        "https://leetcode.com/problems/climbing-stairs/description/"
      ],
      "metadata": {
        "id": "fbkWIOFV9bGo"
      }
    },
    {
      "cell_type": "code",
      "source": [
        "# exponential time solution\n",
        "\n",
        "def climbStairs1(n):\n",
        "    if n <= 2:\n",
        "        return n\n",
        "    else:\n",
        "        return climbStairs1(n - 1) + climbStairs1(n - 2)\n",
        "\n",
        "print(climbStairs1(10))"
      ],
      "metadata": {
        "colab": {
          "base_uri": "https://localhost:8080/"
        },
        "id": "hZbCDx4q9dXo",
        "outputId": "f2fa1824-8ba9-49f1-c078-c256c3fc8107"
      },
      "execution_count": null,
      "outputs": [
        {
          "output_type": "stream",
          "name": "stdout",
          "text": [
            "89\n"
          ]
        }
      ]
    },
    {
      "cell_type": "code",
      "source": [
        "# linear time solution using bottom-up approach\n",
        "\n",
        "def climbStairs2(n):\n",
        "    if n <= 2:\n",
        "        return n\n",
        "    else:\n",
        "        cmap = {}\n",
        "        cmap[1] = 1\n",
        "        cmap[2] = 2\n",
        "        for i in range(3, n+1):\n",
        "            cmap[i] = cmap[i-1] + cmap[i-2]\n",
        "        return cmap[n]\n",
        "\n",
        "print(climbStairs2(10))"
      ],
      "metadata": {
        "colab": {
          "base_uri": "https://localhost:8080/"
        },
        "id": "ZU_azXIJ-F0Z",
        "outputId": "113ffacc-a315-4159-8856-03d8f10b05f6"
      },
      "execution_count": null,
      "outputs": [
        {
          "output_type": "stream",
          "name": "stdout",
          "text": [
            "89\n"
          ]
        }
      ]
    },
    {
      "cell_type": "markdown",
      "source": [
        "### Coin change\n",
        "\n",
        "https://leetcode.com/problems/coin-change/description/\n"
      ],
      "metadata": {
        "id": "jnriN0NtvqmD"
      }
    },
    {
      "cell_type": "code",
      "source": [
        "# bottom up solution\n",
        "\n",
        "def coinChange(coins, amount):\n",
        "    dpmap = [amount + 100] * (amount+1)         # initialize with a very high amount\n",
        "    dpmap[0] = 0                                # base case\n",
        "\n",
        "    for cur_amount in range(1, amount+1):\n",
        "        for coin in coins:\n",
        "            if cur_amount >= coin:\n",
        "                dpmap[cur_amount] = min(dpmap[cur_amount], dpmap[cur_amount-coin] + 1)\n",
        "    #print(dpmap)\n",
        "    return -1 if dpmap[amount] == amount + 100 else dpmap[amount]\n",
        "\n",
        "coins = [1, 3, 4, 5]\n",
        "amount = 7\n",
        "print(coinChange(coins, amount))"
      ],
      "metadata": {
        "colab": {
          "base_uri": "https://localhost:8080/"
        },
        "id": "PDLhAqyvFiJ7",
        "outputId": "69743b06-e905-4213-b7c2-95992a5f4be7"
      },
      "execution_count": null,
      "outputs": [
        {
          "output_type": "stream",
          "name": "stdout",
          "text": [
            "2\n"
          ]
        }
      ]
    },
    {
      "cell_type": "markdown",
      "source": [
        "## Factorial time"
      ],
      "metadata": {
        "id": "cGJXJ9CnKH_A"
      }
    },
    {
      "cell_type": "markdown",
      "source": [
        "### Permutations\n",
        "\n",
        "https://leetcode.com/problems/permutations/description/"
      ],
      "metadata": {
        "id": "-rZYCHt_KJp2"
      }
    },
    {
      "cell_type": "code",
      "source": [
        "\n",
        "def permute(nums):\n",
        "    def backtrack(remaining_nums, path):\n",
        "        print('Entering backtrack with path =', path, 'and remaining nums =', remaining_nums)\n",
        "        if not remaining_nums:\n",
        "            result.append(path)\n",
        "            return\n",
        "        for i in range(len(remaining_nums)):\n",
        "            backtrack(remaining_nums[:i] + remaining_nums[i+1:], path + [remaining_nums[i]])\n",
        "    result = []\n",
        "    backtrack(nums, [])\n",
        "    return result\n",
        "\n",
        "nums = [1,2,3]\n",
        "print(permute(nums))"
      ],
      "metadata": {
        "colab": {
          "base_uri": "https://localhost:8080/"
        },
        "id": "WIu7mB2QNbb8",
        "outputId": "bdcb3629-13c4-4f27-9185-0bf8495a8e72"
      },
      "execution_count": null,
      "outputs": [
        {
          "output_type": "stream",
          "name": "stdout",
          "text": [
            "Entering backtrack with path = [] and remaining nums = [1, 2, 3]\n",
            "Entering backtrack with path = [1] and remaining nums = [2, 3]\n",
            "Entering backtrack with path = [1, 2] and remaining nums = [3]\n",
            "Entering backtrack with path = [1, 2, 3] and remaining nums = []\n",
            "Entering backtrack with path = [1, 3] and remaining nums = [2]\n",
            "Entering backtrack with path = [1, 3, 2] and remaining nums = []\n",
            "Entering backtrack with path = [2] and remaining nums = [1, 3]\n",
            "Entering backtrack with path = [2, 1] and remaining nums = [3]\n",
            "Entering backtrack with path = [2, 1, 3] and remaining nums = []\n",
            "Entering backtrack with path = [2, 3] and remaining nums = [1]\n",
            "Entering backtrack with path = [2, 3, 1] and remaining nums = []\n",
            "Entering backtrack with path = [3] and remaining nums = [1, 2]\n",
            "Entering backtrack with path = [3, 1] and remaining nums = [2]\n",
            "Entering backtrack with path = [3, 1, 2] and remaining nums = []\n",
            "Entering backtrack with path = [3, 2] and remaining nums = [1]\n",
            "Entering backtrack with path = [3, 2, 1] and remaining nums = []\n",
            "[[1, 2, 3], [1, 3, 2], [2, 1, 3], [2, 3, 1], [3, 1, 2], [3, 2, 1]]\n"
          ]
        }
      ]
    }
  ]
}